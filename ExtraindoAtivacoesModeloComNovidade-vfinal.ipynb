{
 "cells": [
  {
   "cell_type": "code",
   "execution_count": 33,
   "metadata": {},
   "outputs": [
    {
     "name": "stdout",
     "output_type": "stream",
     "text": [
      "3.6.3\n"
     ]
    }
   ],
   "source": [
    "#Python 3.6.3 no ambiente anaconda\n",
    "#Python 3.5.5 na máquina local\n",
    "from platform import python_version\n",
    "print(python_version())"
   ]
  },
  {
   "cell_type": "markdown",
   "metadata": {
    "colab_type": "text",
    "id": "HyXeULZq4d71"
   },
   "source": [
    "\n",
    "## Configurando ambiente\n",
    "\n"
   ]
  },
  {
   "cell_type": "code",
   "execution_count": 28,
   "metadata": {},
   "outputs": [
    {
     "name": "stdout",
     "output_type": "stream",
     "text": [
      "Collecting pip\n",
      "  Downloading pip-20.1-py2.py3-none-any.whl (1.5 MB)\n",
      "\u001b[K     |████████████████████████████████| 1.5 MB 622 kB/s eta 0:00:01\n",
      "\u001b[?25hRequirement already up-to-date: setuptools in /home/jayne/anaconda3/envs/experimento2_dissertacao/lib/python3.8/site-packages (46.1.3.post20200330)\n",
      "Requirement already up-to-date: wheel in /home/jayne/anaconda3/envs/experimento2_dissertacao/lib/python3.8/site-packages (0.34.2)\n",
      "Installing collected packages: pip\n",
      "  Attempting uninstall: pip\n",
      "    Found existing installation: pip 20.0.2\n",
      "    Uninstalling pip-20.0.2:\n",
      "      Successfully uninstalled pip-20.0.2\n",
      "Successfully installed pip-20.1\n"
     ]
    }
   ],
   "source": [
    "!pip install --upgrade pip setuptools wheel"
   ]
  },
  {
   "cell_type": "code",
   "execution_count": 29,
   "metadata": {
    "colab": {
     "base_uri": "https://localhost:8080/",
     "height": 125
    },
    "colab_type": "code",
    "id": "SerEcDBj39hA",
    "outputId": "aa862a9c-a698-40cc-f7b4-4db10090d91c"
   },
   "outputs": [
    {
     "name": "stdout",
     "output_type": "stream",
     "text": [
      "Collecting Keras==1.1.0\n",
      "  Using cached Keras-1.1.0.tar.gz (150 kB)\n",
      "Collecting Theano==1.0.2\n",
      "  Using cached Theano-1.0.2.tar.gz (2.8 MB)\n",
      "Collecting numpy==1.15.1\n",
      "  Using cached numpy-1.15.1.zip (4.5 MB)\n",
      "Collecting scipy==1.3.0\n",
      "  Using cached scipy-1.3.0.tar.gz (23.6 MB)\n",
      "  Installing build dependencies ... \u001b[?25ldone\n",
      "\u001b[?25h  Getting requirements to build wheel ... \u001b[?25ldone\n",
      "\u001b[?25h    Preparing wheel metadata ... \u001b[?25ldone\n",
      "\u001b[?25hCollecting pyyaml\n",
      "  Using cached PyYAML-5.3.1.tar.gz (269 kB)\n",
      "Requirement already satisfied: six in /home/jayne/anaconda3/envs/experimento2_dissertacao/lib/python3.8/site-packages (from Keras==1.1.0) (1.14.0)\n",
      "Building wheels for collected packages: Keras, Theano, numpy, scipy, pyyaml\n",
      "\u001b[33m  WARNING: Building wheel for Keras failed: [Errno 13] Permissão negada: '/home/jayne/.cache/pip/wheels/99'\u001b[0m\n",
      "\u001b[33m  WARNING: Building wheel for Theano failed: [Errno 13] Permissão negada: '/home/jayne/.cache/pip/wheels/d7/a0'\u001b[0m\n",
      "\u001b[33m  WARNING: Building wheel for numpy failed: [Errno 13] Permissão negada: '/home/jayne/.cache/pip/wheels/68'\u001b[0m\n",
      "\u001b[33m  WARNING: Building wheel for scipy failed: [Errno 13] Permissão negada: '/home/jayne/.cache/pip/wheels/2c'\u001b[0m\n",
      "\u001b[33m  WARNING: Building wheel for pyyaml failed: [Errno 13] Permissão negada: '/home/jayne/.cache/pip/wheels/13'\u001b[0m\n",
      "Failed to build Keras Theano numpy scipy pyyaml\n",
      "\u001b[31mERROR: Could not build wheels for scipy which use PEP 517 and cannot be installed directly\u001b[0m\n"
     ]
    }
   ],
   "source": [
    "!pip install Keras==1.1.0 Theano==1.0.2 numpy==1.15.1 scipy==1.3.0"
   ]
  },
  {
   "cell_type": "code",
   "execution_count": 32,
   "metadata": {},
   "outputs": [
    {
     "name": "stdout",
     "output_type": "stream",
     "text": [
      "Python 3.8.2\r\n"
     ]
    }
   ],
   "source": [
    "!python --version"
   ]
  },
  {
   "cell_type": "markdown",
   "metadata": {
    "colab_type": "text",
    "id": "BSRE6fYa4mfG"
   },
   "source": [
    "## Definindo Theano como backend do keras"
   ]
  },
  {
   "cell_type": "code",
   "execution_count": 34,
   "metadata": {
    "colab": {
     "base_uri": "https://localhost:8080/",
     "height": 35
    },
    "colab_type": "code",
    "id": "-h1m2ZhZ4l26",
    "outputId": "06f88455-28c2-4fbc-fcff-0c76f76c4dfc",
    "scrolled": true
   },
   "outputs": [],
   "source": [
    "import os\n",
    "os.environ[\"KERAS_BACKEND\"] = \"theano\"\n",
    "import keras.backend\n",
    "keras.backend.set_image_dim_ordering('th')\n",
    "\n",
    "#O formato \"th\" significa que os núcleos convolucionais terão a forma (profundidade, profundidade da entrada, linhas, colunas)\n",
    "#O formato \"tf\" significa que os núcleos convolucionais terão a forma (linhas, colunas, profundidade_de_ entrada, profundidade)"
   ]
  },
  {
   "cell_type": "markdown",
   "metadata": {
    "colab_type": "text",
    "id": "ZW-naxOL4uO_"
   },
   "source": [
    "## Importando LIBS"
   ]
  },
  {
   "cell_type": "code",
   "execution_count": 35,
   "metadata": {
    "colab": {},
    "colab_type": "code",
    "collapsed": true,
    "id": "q_ziEUmeye5C"
   },
   "outputs": [],
   "source": [
    "from keras.models import Sequential, model_from_json\n",
    "from keras.layers import Dense\n",
    "from keras.optimizers import SGD,adam, Adagrad\n",
    "from keras.regularizers import l2\n",
    "import theano.tensor as T\n",
    "import theano\n",
    "import numpy as np\n",
    "import numpy\n",
    "from scipy.io import loadmat, savemat\n",
    "import theano.sandbox\n",
    "import urllib.request, json "
   ]
  },
  {
   "cell_type": "markdown",
   "metadata": {
    "colab_type": "text",
    "id": "VIHsRQVl4yWa"
   },
   "source": [
    "## Apagando modelos antigos\n",
    "### Para refazer o upload\n"
   ]
  },
  {
   "cell_type": "markdown",
   "metadata": {
    "colab_type": "text",
    "id": "yydoTRzm4-_G"
   },
   "source": [
    "## Carregando modelo json e o adicionando como modelo do keras"
   ]
  },
  {
   "cell_type": "code",
   "execution_count": 36,
   "metadata": {
    "collapsed": true
   },
   "outputs": [],
   "source": [
    "DIRECTORY_GERAL = '/home/jayne/Documentos/MESTRADO/PESQUISA/AnomalyDetectionCVPR2018/'"
   ]
  },
  {
   "cell_type": "code",
   "execution_count": 37,
   "metadata": {
    "colab": {},
    "colab_type": "code",
    "id": "Ht9gLTE20Wt7",
    "scrolled": true
   },
   "outputs": [
    {
     "name": "stdout",
     "output_type": "stream",
     "text": [
      "{\n",
      "    \"class_name\": \"Sequential\",\n",
      "    \"keras_version\": \"1.1.0\",\n",
      "    \"config\": [\n",
      "        {\n",
      "            \"class_name\": \"Dense\",\n",
      "            \"config\": {\n",
      "                \"W_constraint\": null,\n",
      "                \"b_constraint\": null,\n",
      "                \"name\": \"dense_1\",\n",
      "                \"output_dim\": 512,\n",
      "                \"activity_regularizer\": null,\n",
      "                \"trainable\": true,\n",
      "                \"init\": \"glorot_normal\",\n",
      "                \"bias\": true,\n",
      "                \"input_dtype\": \"float32\",\n",
      "                \"input_dim\": 4096,\n",
      "                \"b_regularizer\": null,\n",
      "                \"W_regularizer\": {\n",
      "                    \"l2\": 0.0010000000474974513,\n",
      "                    \"name\": \"WeightRegularizer\",\n",
      "                    \"l1\": 0.0\n",
      "                },\n",
      "                \"activation\": \"relu\",\n",
      "                \"batch_input_shape\": [\n",
      "                    null,\n",
      "                    4096\n",
      "                ]\n",
      "            }\n",
      "        },\n",
      "        {\n",
      "            \"class_name\": \"Dropout\",\n",
      "            \"config\": {\n",
      "                \"p\": 0.6,\n",
      "                \"trainable\": true,\n",
      "                \"name\": \"dropout_1\"\n",
      "            }\n",
      "        },\n",
      "        {\n",
      "            \"class_name\": \"Dense\",\n",
      "            \"config\": {\n",
      "                \"W_constraint\": null,\n",
      "                \"b_constraint\": null,\n",
      "                \"name\": \"dense_2\",\n",
      "                \"activity_regularizer\": null,\n",
      "                \"trainable\": true,\n",
      "                \"init\": \"glorot_normal\",\n",
      "                \"bias\": true,\n",
      "                \"input_dim\": null,\n",
      "                \"b_regularizer\": null,\n",
      "                \"W_regularizer\": {\n",
      "                    \"l2\": 0.0010000000474974513,\n",
      "                    \"name\": \"WeightRegularizer\",\n",
      "                    \"l1\": 0.0\n",
      "                },\n",
      "                \"activation\": \"linear\",\n",
      "                \"output_dim\": 32\n",
      "            }\n",
      "        },\n",
      "        {\n",
      "            \"class_name\": \"Dropout\",\n",
      "            \"config\": {\n",
      "                \"p\": 0.6,\n",
      "                \"trainable\": true,\n",
      "                \"name\": \"dropout_2\"\n",
      "            }\n",
      "        },\n",
      "        {\n",
      "            \"class_name\": \"Dense\",\n",
      "            \"config\": {\n",
      "                \"W_constraint\": null,\n",
      "                \"b_constraint\": null,\n",
      "                \"name\": \"dense_3\",\n",
      "                \"activity_regularizer\": null,\n",
      "                \"trainable\": true,\n",
      "                \"init\": \"glorot_normal\",\n",
      "                \"bias\": true,\n",
      "                \"input_dim\": null,\n",
      "                \"b_regularizer\": null,\n",
      "                \"W_regularizer\": {\n",
      "                    \"l2\": 0.0010000000474974513,\n",
      "                    \"name\": \"WeightRegularizer\",\n",
      "                    \"l1\": 0.0\n",
      "                },\n",
      "                \"activation\": \"sigmoid\",\n",
      "                \"output_dim\": 1\n",
      "            }\n",
      "        }\n",
      "    ]\n",
      "}\n"
     ]
    }
   ],
   "source": [
    "json_file = open(DIRECTORY_GERAL+'model.json', 'r')\n",
    "loaded_model_json = json_file.read()\n",
    "json_file.close()\n",
    "print(loaded_model_json)\n",
    "\n",
    "# Reconstruindo um modelo a partr do arquivo de arquivo de configuração JSON e retorna uma instância do modelo.\n",
    "loaded_model = model_from_json(loaded_model_json)\n"
   ]
  },
  {
   "cell_type": "markdown",
   "metadata": {
    "colab_type": "text",
    "id": "3BkNRVwg5PmJ"
   },
   "source": [
    "\n",
    "### **Iterando** sob as camadas carregadas para adicionar as camadas em uma nova rede\n"
   ]
  },
  {
   "cell_type": "code",
   "execution_count": 38,
   "metadata": {
    "colab": {},
    "colab_type": "code",
    "id": "SX5URbY55Xx5"
   },
   "outputs": [
    {
     "name": "stdout",
     "output_type": "stream",
     "text": [
      "____________________________________________________________________________________________________\n",
      "Layer (type)                     Output Shape          Param #     Connected to                     \n",
      "====================================================================================================\n",
      "dense_1 (Dense)                  (None, 512)           2097664     dense_input_2[0][0]              \n",
      "____________________________________________________________________________________________________\n",
      "dropout_1 (Dropout)              (None, 512)           0           dense_1[0][0]                    \n",
      "                                                                   dense_1[0][0]                    \n",
      "____________________________________________________________________________________________________\n",
      "dense_2 (Dense)                  (None, 32)            16416       dropout_1[0][0]                  \n",
      "                                                                   dropout_1[1][0]                  \n",
      "____________________________________________________________________________________________________\n",
      "dropout_2 (Dropout)              (None, 32)            0           dense_2[0][0]                    \n",
      "                                                                   dense_2[1][0]                    \n",
      "____________________________________________________________________________________________________\n",
      "dense_3 (Dense)                  (None, 1)             33          dropout_2[0][0]                  \n",
      "                                                                   dropout_2[1][0]                  \n",
      "====================================================================================================\n",
      "Total params: 2114113\n",
      "____________________________________________________________________________________________________\n"
     ]
    }
   ],
   "source": [
    "model = Sequential()\n",
    "\n",
    "for layer in loaded_model.layers:\n",
    "    model.add(layer)\n",
    "\n",
    "model.summary()"
   ]
  },
  {
   "cell_type": "code",
   "execution_count": 39,
   "metadata": {
    "colab": {},
    "colab_type": "code",
    "id": "l5UMmAey6Bxs"
   },
   "outputs": [
    {
     "name": "stdout",
     "output_type": "stream",
     "text": [
      "True\n",
      "True\n",
      "True\n",
      "True\n",
      "True\n"
     ]
    }
   ],
   "source": [
    "\n",
    "for layer in model.layers:\n",
    "    print(layer.trainable)"
   ]
  },
  {
   "cell_type": "markdown",
   "metadata": {},
   "source": [
    "## Congelando camadas da  rede"
   ]
  },
  {
   "cell_type": "code",
   "execution_count": 40,
   "metadata": {
    "colab": {},
    "colab_type": "code",
    "id": "Y_0fyxDR6Lzl"
   },
   "outputs": [
    {
     "name": "stdout",
     "output_type": "stream",
     "text": [
      "False\n",
      "False\n",
      "False\n",
      "False\n",
      "False\n"
     ]
    }
   ],
   "source": [
    "# Congelamos a rede\n",
    "\n",
    "for layer in model.layers[0:]:\n",
    "    layer.trainable = False\n",
    "     \n",
    "#model.layers[2].trainable = True  \n",
    "#model.layers[4].trainable = True  \n",
    "\n",
    "# Imprima\n",
    "\n",
    "for layer in model.layers:\n",
    "    print(layer.trainable)\n"
   ]
  },
  {
   "cell_type": "markdown",
   "metadata": {},
   "source": [
    "## Carregando os pesos da rede"
   ]
  },
  {
   "cell_type": "code",
   "execution_count": 41,
   "metadata": {
    "colab": {},
    "colab_type": "code",
    "collapsed": true,
    "id": "LjVscoSM62gZ"
   },
   "outputs": [],
   "source": [
    "# Carregamos os pesos na rede\n",
    "\n",
    "def load_weights(model, weight_path): # Function to load the model weights\n",
    "    dict2 = loadmat(weight_path)\n",
    "    dict = conv_dict(dict2)\n",
    "    i = 0\n",
    "    for layer in model.layers:\n",
    "        weights = dict[str(i)]\n",
    "        layer.set_weights(weights)\n",
    "        i += 1\n",
    "    return model\n",
    "\n",
    "def conv_dict(dict2):\n",
    "    i = 0\n",
    "    dict = {}\n",
    "    for i in range(len(dict2)):\n",
    "        if str(i) in dict2:\n",
    "            if dict2[str(i)].shape == (0, 0):\n",
    "                dict[str(i)] = dict2[str(i)]\n",
    "            else:\n",
    "                weights = dict2[str(i)][0]\n",
    "                weights2 = []\n",
    "                for weight in weights:\n",
    "                    if weight.shape in [(1, x) for x in range(0, 5000)]:\n",
    "                        weights2.append(weight[0])\n",
    "                    else:\n",
    "                        weights2.append(weight)\n",
    "                dict[str(i)] = weights2\n",
    "    return dict\n",
    "\n",
    "\n",
    "model2 = load_weights(model, DIRECTORY_GERAL+'weights_L1L2.mat')\n",
    "\n",
    "\n",
    "# Definindo Hiperparâmetros\n",
    "\n",
    "adagrad=Adagrad(lr=0.01, epsilon=1e-08)\n",
    "\n",
    "model2.compile(loss='mean_squared_error', optimizer=adagrad)"
   ]
  },
  {
   "cell_type": "code",
   "execution_count": 42,
   "metadata": {
    "collapsed": true
   },
   "outputs": [],
   "source": [
    "def load_dataset_One_Video_Features(Test_Video_Path):\n",
    "\n",
    "    VideoPath =Test_Video_Path\n",
    "    f = open(VideoPath, \"r\")\n",
    "    words = f.read().split()\n",
    "    num_feat = len(words) / 4096\n",
    "    # Number of features per video to be loaded. In our case num_feat=32, as we divide the video into 32 segments. Npte that\n",
    "    # we have already computed C3D features for the whole video and divide the video features into 32 segments.\n",
    "\n",
    "    count = -1;\n",
    "    VideoFeatues = []\n",
    "    for feat in range(0, int(num_feat)):\n",
    "        feat_row1 = np.float32(words[feat * 4096:feat * 4096 + 4096])\n",
    "        count = count + 1\n",
    "        if count == 0:\n",
    "            VideoFeatues = feat_row1\n",
    "        if count > 0:\n",
    "            VideoFeatues = np.vstack((VideoFeatues, feat_row1))\n",
    "    AllFeatures = VideoFeatues\n",
    "\n",
    "    return  AllFeatures"
   ]
  },
  {
   "cell_type": "markdown",
   "metadata": {},
   "source": [
    "Teste com 1 único arquivo de feature para um vídeo específico"
   ]
  },
  {
   "cell_type": "code",
   "execution_count": 43,
   "metadata": {
    "colab": {},
    "colab_type": "code",
    "id": "jJQBmhV8QO92"
   },
   "outputs": [
    {
     "data": {
      "text/plain": [
       "array([[5.92888296e-02],\n",
       "       [9.99995768e-01],\n",
       "       [1.00000000e+00],\n",
       "       [9.72513676e-01],\n",
       "       [9.99530137e-01],\n",
       "       [9.39119160e-01],\n",
       "       [7.73924310e-03],\n",
       "       [3.17960322e-01],\n",
       "       [1.09492084e-02],\n",
       "       [2.86138720e-06],\n",
       "       [1.33183357e-06],\n",
       "       [4.23348041e-07],\n",
       "       [2.67143406e-07],\n",
       "       [4.04276022e-07],\n",
       "       [6.36074731e-07],\n",
       "       [3.98849488e-06],\n",
       "       [1.40022109e-06],\n",
       "       [5.44635725e-07],\n",
       "       [1.71988313e-06],\n",
       "       [1.10032964e-07],\n",
       "       [3.82445897e-08],\n",
       "       [3.46304607e-09],\n",
       "       [1.50118602e-08],\n",
       "       [1.60915492e-09],\n",
       "       [3.98882394e-09],\n",
       "       [3.27964678e-09],\n",
       "       [3.19895999e-09],\n",
       "       [4.66307881e-09],\n",
       "       [9.02528441e-10],\n",
       "       [3.36979528e-10],\n",
       "       [5.68824654e-10],\n",
       "       [4.96184038e-10]], dtype=float32)"
      ]
     },
     "execution_count": 43,
     "metadata": {},
     "output_type": "execute_result"
    }
   ],
   "source": [
    "FeaturePath=DIRECTORY_GERAL+'SampleVideos/Shooting008_x264.txt'\n",
    "inputs = load_dataset_One_Video_Features(FeaturePath)\n",
    "#inputs = np.reshape(inputs, (32, 4096))\n",
    "predictions = model2.predict_on_batch(inputs)\n",
    "\n",
    "predictions"
   ]
  },
  {
   "cell_type": "code",
   "execution_count": 44,
   "metadata": {},
   "outputs": [
    {
     "name": "stdout",
     "output_type": "stream",
     "text": [
      "Elemwise{add,no_inplace}.0\n"
     ]
    }
   ],
   "source": [
    "print(model2.layers[2].get_output_at(0))\n"
   ]
  },
  {
   "cell_type": "code",
   "execution_count": 45,
   "metadata": {},
   "outputs": [
    {
     "name": "stdout",
     "output_type": "stream",
     "text": [
      "Shape.0\n"
     ]
    }
   ],
   "source": [
    "print(model2.input.shape)"
   ]
  },
  {
   "cell_type": "code",
   "execution_count": 46,
   "metadata": {},
   "outputs": [
    {
     "name": "stdout",
     "output_type": "stream",
     "text": [
      "[[0.         0.04268404 0.         ... 0.05696276 0.01690462 0.04661492]\n",
      " [0.         0.         0.         ... 0.         0.         0.08978063]\n",
      " [0.         0.         0.         ... 0.         0.         0.09503081]\n",
      " ...\n",
      " [0.         0.10693794 0.         ... 0.13439566 0.11537042 0.        ]\n",
      " [0.         0.10232389 0.         ... 0.13093203 0.11200153 0.        ]\n",
      " [0.         0.10191955 0.         ... 0.13297269 0.11475941 0.        ]]\n"
     ]
    }
   ],
   "source": [
    "OutFunc = keras.backend.function([model2.input], [model2.layers[0].output])\n",
    "#OutFunc = keras.backend.function([model2.input], [model2.layers[2].get_output_at(0)])\n",
    "\n",
    "\n",
    "out_val = OutFunc([inputs])[0]\n",
    "print(out_val)"
   ]
  },
  {
   "cell_type": "code",
   "execution_count": 47,
   "metadata": {},
   "outputs": [
    {
     "data": {
      "text/plain": [
       "(32, 512)"
      ]
     },
     "execution_count": 47,
     "metadata": {},
     "output_type": "execute_result"
    }
   ],
   "source": [
    "out_val.shape"
   ]
  },
  {
   "cell_type": "markdown",
   "metadata": {},
   "source": [
    "# Arquivo de features sem o cálculo da média "
   ]
  },
  {
   "cell_type": "code",
   "execution_count": 48,
   "metadata": {},
   "outputs": [
    {
     "data": {
      "text/plain": [
       "array([[6.3002247e-01],\n",
       "       [9.9998206e-01],\n",
       "       [9.9999768e-01],\n",
       "       [5.7959718e-01],\n",
       "       [9.9961108e-01],\n",
       "       [7.1074367e-01],\n",
       "       [1.6969685e-03],\n",
       "       [5.7201797e-01],\n",
       "       [9.2288823e-04],\n",
       "       [1.3315720e-06],\n",
       "       [7.2199367e-07],\n",
       "       [4.4238561e-07],\n",
       "       [3.6952554e-07],\n",
       "       [2.9708016e-07],\n",
       "       [1.4987448e-06],\n",
       "       [5.1049337e-06],\n",
       "       [8.1995063e-07],\n",
       "       [5.3264927e-07],\n",
       "       [5.2073719e-06],\n",
       "       [6.6955245e-08],\n",
       "       [1.3930625e-08],\n",
       "       [7.5535791e-09],\n",
       "       [6.1032526e-09],\n",
       "       [1.6890871e-09],\n",
       "       [8.4789757e-09],\n",
       "       [4.4935748e-09],\n",
       "       [3.5126599e-09],\n",
       "       [8.2814076e-09],\n",
       "       [7.2168749e-10],\n",
       "       [2.9396979e-10],\n",
       "       [6.1429578e-10],\n",
       "       [3.8280021e-10]], dtype=float32)"
      ]
     },
     "execution_count": 48,
     "metadata": {},
     "output_type": "execute_result"
    }
   ],
   "source": [
    "FeaturePath=DIRECTORY_GERAL+'SampleVideos/Shooting008_x264_from_dataset.txt'\n",
    "inputs = load_dataset_One_Video_Features(FeaturePath)\n",
    "#inputs = np.reshape(inputs, (32, 4096))\n",
    "predictions = model2.predict_on_batch(inputs)\n",
    "predictions"
   ]
  },
  {
   "cell_type": "code",
   "execution_count": 49,
   "metadata": {},
   "outputs": [
    {
     "name": "stdout",
     "output_type": "stream",
     "text": [
      "[[0.         0.03073174 0.         ... 0.04886033 0.00681354 0.05338172]\n",
      " [0.         0.         0.         ... 0.         0.         0.08358815]\n",
      " [0.         0.         0.         ... 0.         0.         0.08407632]\n",
      " ...\n",
      " [0.         0.1079632  0.         ... 0.13604587 0.11634275 0.        ]\n",
      " [0.         0.10195634 0.         ... 0.13204238 0.11366762 0.        ]\n",
      " [0.         0.10201789 0.         ... 0.1339305  0.1184345  0.        ]]\n"
     ]
    }
   ],
   "source": [
    "OutFunc = keras.backend.function([model2.input], [model2.layers[0].output])\n",
    "#OutFunc = keras.backend.function([model2.input], [model2.layers[2].get_output_at(0)])\n",
    "\n",
    "\n",
    "out_val = OutFunc([inputs])[0]\n",
    "print(out_val)"
   ]
  },
  {
   "cell_type": "code",
   "execution_count": 50,
   "metadata": {},
   "outputs": [
    {
     "data": {
      "text/plain": [
       "(32, 512)"
      ]
     },
     "execution_count": 50,
     "metadata": {},
     "output_type": "execute_result"
    }
   ],
   "source": [
    "out_val.shape"
   ]
  },
  {
   "cell_type": "code",
   "execution_count": 51,
   "metadata": {},
   "outputs": [
    {
     "name": "stdout",
     "output_type": "stream",
     "text": [
      "[[0.         0.03073174 0.         ... 0.04886033 0.00681354 0.05338172]\n",
      " [0.         0.         0.         ... 0.         0.         0.08358815]\n",
      " [0.         0.         0.         ... 0.         0.         0.08407632]\n",
      " ...\n",
      " [0.         0.1079632  0.         ... 0.13604587 0.11634275 0.        ]\n",
      " [0.         0.10195634 0.         ... 0.13204238 0.11366762 0.        ]\n",
      " [0.         0.10201789 0.         ... 0.1339305  0.1184345  0.        ]]\n"
     ]
    }
   ],
   "source": [
    "np.save('teste1', out_val)\n",
    "temp = np.load('teste1.npy')\n",
    "print(temp)"
   ]
  },
  {
   "cell_type": "code",
   "execution_count": 52,
   "metadata": {
    "collapsed": true
   },
   "outputs": [],
   "source": [
    "f = open(\"saida.csv\", \"w+\")\n",
    "\n",
    "def printvalues(data, video_name, class_name):\n",
    "    if isinstance(data, np.ndarray):\n",
    "        f.write(\"x;y;value\\r\\n\")\n",
    "        for (x,y), value in np.ndenumerate(data):\n",
    "            if isinstance(value, np.ndarray):\n",
    "                f.write(\"NDArray;NDArray;NDArray\\r\\n\")\n",
    "                printvalues(value)\n",
    "            else:\n",
    "                f.write(\"{0};{1};{2}\\r\\n\".format(str(x), str(y), str(value)))\n",
    "    else:\n",
    "        return 0\n",
    "\n",
    "printvalues(out_val, \"\", \"\") "
   ]
  },
  {
   "cell_type": "markdown",
   "metadata": {},
   "source": [
    "# Calcularemos a saída da camada para dois vídeos diferentes"
   ]
  },
  {
   "cell_type": "code",
   "execution_count": 53,
   "metadata": {},
   "outputs": [
    {
     "name": "stdout",
     "output_type": "stream",
     "text": [
      "[[0.         0.03073174 0.         ... 0.04886033 0.00681354 0.05338172]\n",
      " [0.         0.         0.         ... 0.         0.         0.08358815]\n",
      " [0.         0.         0.         ... 0.         0.         0.08407632]\n",
      " ...\n",
      " [0.         0.1079632  0.         ... 0.13604587 0.11634275 0.        ]\n",
      " [0.         0.10195634 0.         ... 0.13204238 0.11366762 0.        ]\n",
      " [0.         0.10201789 0.         ... 0.1339305  0.1184345  0.        ]]\n"
     ]
    }
   ],
   "source": [
    "FeaturePath=DIRECTORY_GERAL+'SampleVideos/Shooting008_x264_from_dataset.txt'\n",
    "inputs = load_dataset_One_Video_Features(FeaturePath)\n",
    "OutFunc = keras.backend.function([model2.input], [model2.layers[0].output])\n",
    "out_val = OutFunc([inputs])[0]\n",
    "print(out_val)"
   ]
  },
  {
   "cell_type": "code",
   "execution_count": 54,
   "metadata": {},
   "outputs": [
    {
     "name": "stdout",
     "output_type": "stream",
     "text": [
      "[[0.         0.05618518 0.         ... 0.05910342 0.0846732  0.05561975]\n",
      " [0.         0.06115815 0.         ... 0.07382973 0.08364459 0.05223005]\n",
      " [0.         0.03358655 0.         ... 0.0438396  0.05433349 0.0716617 ]\n",
      " ...\n",
      " [0.         0.04179321 0.         ... 0.03868796 0.08782981 0.0618831 ]\n",
      " [0.         0.05406076 0.         ... 0.04827485 0.08859913 0.0583579 ]\n",
      " [0.         0.04136848 0.         ... 0.03602235 0.0773719  0.06452888]]\n"
     ]
    }
   ],
   "source": [
    "FeaturePath=DIRECTORY_GERAL+'SampleVideos/Shooting033_x264.txt'\n",
    "inputs = load_dataset_One_Video_Features(FeaturePath)\n",
    "OutFunc = keras.backend.function([model2.input], [model2.layers[0].output])\n",
    "out_val = OutFunc([inputs])[0]\n",
    "print(out_val)"
   ]
  },
  {
   "cell_type": "markdown",
   "metadata": {},
   "source": [
    "### Teste de função"
   ]
  },
  {
   "cell_type": "code",
   "execution_count": 55,
   "metadata": {},
   "outputs": [
    {
     "name": "stdout",
     "output_type": "stream",
     "text": [
      "[[0.         0.05618518 0.         ... 0.05910342 0.0846732  0.05561975]\n",
      " [0.         0.06115815 0.         ... 0.07382973 0.08364459 0.05223005]\n",
      " [0.         0.03358655 0.         ... 0.0438396  0.05433349 0.0716617 ]\n",
      " ...\n",
      " [0.         0.04179321 0.         ... 0.03868796 0.08782981 0.0618831 ]\n",
      " [0.         0.05406076 0.         ... 0.04827485 0.08859913 0.0583579 ]\n",
      " [0.         0.04136848 0.         ... 0.03602235 0.0773719  0.06452888]]\n"
     ]
    }
   ],
   "source": [
    "def save_features_layer(path, video_name, class_name):\n",
    "    FeaturePath=path\n",
    "    inputs = load_dataset_One_Video_Features(FeaturePath)\n",
    "    OutFunc = keras.backend.function([model2.input], [model2.layers[0].output])\n",
    "    out_val = OutFunc([inputs])[0]\n",
    "    print(out_val)\n",
    "    \n",
    "    printvalues(out_val, video_name, class_name) \n",
    "    \n",
    "p = DIRECTORY_GERAL+'SampleVideos/Shooting033_x264.txt'\n",
    "save_features_layer(p, 0, 0)"
   ]
  },
  {
   "cell_type": "code",
   "execution_count": null,
   "metadata": {
    "collapsed": true
   },
   "outputs": [],
   "source": []
  },
  {
   "cell_type": "markdown",
   "metadata": {},
   "source": [
    "# Script para salvar a saída da camada em formato CSV"
   ]
  },
  {
   "cell_type": "markdown",
   "metadata": {},
   "source": [
    "### Salvar as features extraídas da camada em um arquivo"
   ]
  },
  {
   "cell_type": "code",
   "execution_count": 56,
   "metadata": {
    "scrolled": true
   },
   "outputs": [
    {
     "name": "stdout",
     "output_type": "stream",
     "text": [
      "Directory  /home/jayne/Documentos/MESTRADO/PESQUISA/Rep_Geral_Projeto_VideoVigilancia/Step_3-Extracao_Ativacoes_do_Modelo/FeaturesExtractedLayerNetwork/  already exists\n",
      "List of all directories in '/home/jayne/Documentos/MESTRADO/PESQUISA/Rep_Geral_Projeto_VideoVigilancia/Step_2-MatLab/c3d/output_32Segments/':\n",
      "/home/jayne/Documentos/MESTRADO/PESQUISA/Rep_Geral_Projeto_VideoVigilancia/Step_2-MatLab/c3d/output_32Segments/Punch/\n",
      "/home/jayne/Documentos/MESTRADO/PESQUISA/Rep_Geral_Projeto_VideoVigilancia/Step_2-MatLab/c3d/output_32Segments/Punch/v_Punch_g25_c06_C.txt\n",
      "/home/jayne/Documentos/MESTRADO/PESQUISA/Rep_Geral_Projeto_VideoVigilancia/Step_2-MatLab/c3d/output_32Segments/Punch/v_Punch_g10_c03_C.txt\n",
      "/home/jayne/Documentos/MESTRADO/PESQUISA/Rep_Geral_Projeto_VideoVigilancia/Step_2-MatLab/c3d/output_32Segments/Punch/v_Punch_g23_c05_C.txt\n",
      "/home/jayne/Documentos/MESTRADO/PESQUISA/Rep_Geral_Projeto_VideoVigilancia/Step_2-MatLab/c3d/output_32Segments/Punch/v_Punch_g21_c04_C.txt\n",
      "/home/jayne/Documentos/MESTRADO/PESQUISA/Rep_Geral_Projeto_VideoVigilancia/Step_2-MatLab/c3d/output_32Segments/Punch/v_Punch_g22_c03_C.txt\n",
      "/home/jayne/Documentos/MESTRADO/PESQUISA/Rep_Geral_Projeto_VideoVigilancia/Step_2-MatLab/c3d/output_32Segments/Punch/v_Punch_g07_c04_C.txt\n",
      "/home/jayne/Documentos/MESTRADO/PESQUISA/Rep_Geral_Projeto_VideoVigilancia/Step_2-MatLab/c3d/output_32Segments/Punch/v_Punch_g18_c05_C.txt\n",
      "/home/jayne/Documentos/MESTRADO/PESQUISA/Rep_Geral_Projeto_VideoVigilancia/Step_2-MatLab/c3d/output_32Segments/Punch/v_Punch_g23_c03_C.txt\n",
      "/home/jayne/Documentos/MESTRADO/PESQUISA/Rep_Geral_Projeto_VideoVigilancia/Step_2-MatLab/c3d/output_32Segments/Punch/v_Punch_g12_c02_C.txt\n",
      "/home/jayne/Documentos/MESTRADO/PESQUISA/Rep_Geral_Projeto_VideoVigilancia/Step_2-MatLab/c3d/output_32Segments/Punch/v_Punch_g25_c04_C.txt\n",
      "/home/jayne/Documentos/MESTRADO/PESQUISA/Rep_Geral_Projeto_VideoVigilancia/Step_2-MatLab/c3d/output_32Segments/Punch/v_Punch_g01_c03_C.txt\n",
      "/home/jayne/Documentos/MESTRADO/PESQUISA/Rep_Geral_Projeto_VideoVigilancia/Step_2-MatLab/c3d/output_32Segments/Punch/v_Punch_g12_c03_C.txt\n",
      "/home/jayne/Documentos/MESTRADO/PESQUISA/Rep_Geral_Projeto_VideoVigilancia/Step_2-MatLab/c3d/output_32Segments/Punch/v_Punch_g05_c05_C.txt\n",
      "/home/jayne/Documentos/MESTRADO/PESQUISA/Rep_Geral_Projeto_VideoVigilancia/Step_2-MatLab/c3d/output_32Segments/Punch/v_Punch_g17_c01_C.txt\n",
      "/home/jayne/Documentos/MESTRADO/PESQUISA/Rep_Geral_Projeto_VideoVigilancia/Step_2-MatLab/c3d/output_32Segments/Punch/v_Punch_g17_c02_C.txt\n",
      "/home/jayne/Documentos/MESTRADO/PESQUISA/Rep_Geral_Projeto_VideoVigilancia/Step_2-MatLab/c3d/output_32Segments/Punch/v_Punch_g12_c04_C.txt\n",
      "/home/jayne/Documentos/MESTRADO/PESQUISA/Rep_Geral_Projeto_VideoVigilancia/Step_2-MatLab/c3d/output_32Segments/Punch/v_Punch_g11_c06_C.txt\n",
      "/home/jayne/Documentos/MESTRADO/PESQUISA/Rep_Geral_Projeto_VideoVigilancia/Step_2-MatLab/c3d/output_32Segments/Punch/v_Punch_g22_c04_C.txt\n",
      "/home/jayne/Documentos/MESTRADO/PESQUISA/Rep_Geral_Projeto_VideoVigilancia/Step_2-MatLab/c3d/output_32Segments/Punch/v_Punch_g22_c02_C.txt\n",
      "/home/jayne/Documentos/MESTRADO/PESQUISA/Rep_Geral_Projeto_VideoVigilancia/Step_2-MatLab/c3d/output_32Segments/Punch/v_Punch_g19_c04_C.txt\n",
      "/home/jayne/Documentos/MESTRADO/PESQUISA/Rep_Geral_Projeto_VideoVigilancia/Step_2-MatLab/c3d/output_32Segments/Punch/v_Punch_g02_c01_C.txt\n",
      "/home/jayne/Documentos/MESTRADO/PESQUISA/Rep_Geral_Projeto_VideoVigilancia/Step_2-MatLab/c3d/output_32Segments/Punch/v_Punch_g15_c01_C.txt\n",
      "/home/jayne/Documentos/MESTRADO/PESQUISA/Rep_Geral_Projeto_VideoVigilancia/Step_2-MatLab/c3d/output_32Segments/Punch/v_Punch_g22_c01_C.txt\n",
      "/home/jayne/Documentos/MESTRADO/PESQUISA/Rep_Geral_Projeto_VideoVigilancia/Step_2-MatLab/c3d/output_32Segments/Punch/v_Punch_g25_c03_C.txt\n",
      "/home/jayne/Documentos/MESTRADO/PESQUISA/Rep_Geral_Projeto_VideoVigilancia/Step_2-MatLab/c3d/output_32Segments/Punch/v_Punch_g01_c05_C.txt\n",
      "/home/jayne/Documentos/MESTRADO/PESQUISA/Rep_Geral_Projeto_VideoVigilancia/Step_2-MatLab/c3d/output_32Segments/Punch/v_Punch_g01_c01_C.txt\n",
      "/home/jayne/Documentos/MESTRADO/PESQUISA/Rep_Geral_Projeto_VideoVigilancia/Step_2-MatLab/c3d/output_32Segments/Punch/v_Punch_g03_c01_C.txt\n",
      "/home/jayne/Documentos/MESTRADO/PESQUISA/Rep_Geral_Projeto_VideoVigilancia/Step_2-MatLab/c3d/output_32Segments/Punch/v_Punch_g12_c06_C.txt\n",
      "/home/jayne/Documentos/MESTRADO/PESQUISA/Rep_Geral_Projeto_VideoVigilancia/Step_2-MatLab/c3d/output_32Segments/Punch/v_Punch_g02_c02_C.txt\n",
      "/home/jayne/Documentos/MESTRADO/PESQUISA/Rep_Geral_Projeto_VideoVigilancia/Step_2-MatLab/c3d/output_32Segments/Punch/v_Punch_g05_c06_C.txt\n",
      "/home/jayne/Documentos/MESTRADO/PESQUISA/Rep_Geral_Projeto_VideoVigilancia/Step_2-MatLab/c3d/output_32Segments/Punch/v_Punch_g17_c04_C.txt\n",
      "/home/jayne/Documentos/MESTRADO/PESQUISA/Rep_Geral_Projeto_VideoVigilancia/Step_2-MatLab/c3d/output_32Segments/Punch/v_Punch_g13_c05_C.txt\n",
      "/home/jayne/Documentos/MESTRADO/PESQUISA/Rep_Geral_Projeto_VideoVigilancia/Step_2-MatLab/c3d/output_32Segments/Punch/v_Punch_g06_c01_C.txt\n",
      "/home/jayne/Documentos/MESTRADO/PESQUISA/Rep_Geral_Projeto_VideoVigilancia/Step_2-MatLab/c3d/output_32Segments/Punch/v_Punch_g23_c04_C.txt\n",
      "/home/jayne/Documentos/MESTRADO/PESQUISA/Rep_Geral_Projeto_VideoVigilancia/Step_2-MatLab/c3d/output_32Segments/Punch/v_Punch_g06_c04_C.txt\n",
      "/home/jayne/Documentos/MESTRADO/PESQUISA/Rep_Geral_Projeto_VideoVigilancia/Step_2-MatLab/c3d/output_32Segments/Punch/v_Punch_g08_c06_C.txt\n",
      "/home/jayne/Documentos/MESTRADO/PESQUISA/Rep_Geral_Projeto_VideoVigilancia/Step_2-MatLab/c3d/output_32Segments/Punch/v_Punch_g25_c07_C.txt\n",
      "/home/jayne/Documentos/MESTRADO/PESQUISA/Rep_Geral_Projeto_VideoVigilancia/Step_2-MatLab/c3d/output_32Segments/Punch/v_Punch_g04_c02_C.txt\n",
      "/home/jayne/Documentos/MESTRADO/PESQUISA/Rep_Geral_Projeto_VideoVigilancia/Step_2-MatLab/c3d/output_32Segments/Punch/v_Punch_g04_c04_C.txt\n",
      "/home/jayne/Documentos/MESTRADO/PESQUISA/Rep_Geral_Projeto_VideoVigilancia/Step_2-MatLab/c3d/output_32Segments/Punch/v_Punch_g06_c05_C.txt\n",
      "/home/jayne/Documentos/MESTRADO/PESQUISA/Rep_Geral_Projeto_VideoVigilancia/Step_2-MatLab/c3d/output_32Segments/Punch/v_Punch_g05_c04_C.txt\n",
      "/home/jayne/Documentos/MESTRADO/PESQUISA/Rep_Geral_Projeto_VideoVigilancia/Step_2-MatLab/c3d/output_32Segments/Punch/v_Punch_g03_c02_C.txt\n",
      "/home/jayne/Documentos/MESTRADO/PESQUISA/Rep_Geral_Projeto_VideoVigilancia/Step_2-MatLab/c3d/output_32Segments/Punch/v_Punch_g11_c01_C.txt\n",
      "/home/jayne/Documentos/MESTRADO/PESQUISA/Rep_Geral_Projeto_VideoVigilancia/Step_2-MatLab/c3d/output_32Segments/Punch/v_Punch_g06_c02_C.txt\n",
      "/home/jayne/Documentos/MESTRADO/PESQUISA/Rep_Geral_Projeto_VideoVigilancia/Step_2-MatLab/c3d/output_32Segments/Punch/v_Punch_g18_c04_C.txt\n",
      "/home/jayne/Documentos/MESTRADO/PESQUISA/Rep_Geral_Projeto_VideoVigilancia/Step_2-MatLab/c3d/output_32Segments/Punch/v_Punch_g10_c04_C.txt\n",
      "/home/jayne/Documentos/MESTRADO/PESQUISA/Rep_Geral_Projeto_VideoVigilancia/Step_2-MatLab/c3d/output_32Segments/Punch/v_Punch_g03_c04_C.txt\n",
      "/home/jayne/Documentos/MESTRADO/PESQUISA/Rep_Geral_Projeto_VideoVigilancia/Step_2-MatLab/c3d/output_32Segments/Punch/v_Punch_g22_c07_C.txt\n",
      "/home/jayne/Documentos/MESTRADO/PESQUISA/Rep_Geral_Projeto_VideoVigilancia/Step_2-MatLab/c3d/output_32Segments/Punch/v_Punch_g13_c03_C.txt\n",
      "/home/jayne/Documentos/MESTRADO/PESQUISA/Rep_Geral_Projeto_VideoVigilancia/Step_2-MatLab/c3d/output_32Segments/Punch/v_Punch_g19_c06_C.txt\n",
      "/home/jayne/Documentos/MESTRADO/PESQUISA/Rep_Geral_Projeto_VideoVigilancia/Step_2-MatLab/c3d/output_32Segments/Punch/v_Punch_g20_c01_C.txt\n",
      "/home/jayne/Documentos/MESTRADO/PESQUISA/Rep_Geral_Projeto_VideoVigilancia/Step_2-MatLab/c3d/output_32Segments/Punch/v_Punch_g07_c05_C.txt\n",
      "/home/jayne/Documentos/MESTRADO/PESQUISA/Rep_Geral_Projeto_VideoVigilancia/Step_2-MatLab/c3d/output_32Segments/Punch/v_Punch_g04_c01_C.txt\n",
      "/home/jayne/Documentos/MESTRADO/PESQUISA/Rep_Geral_Projeto_VideoVigilancia/Step_2-MatLab/c3d/output_32Segments/Punch/v_Punch_g06_c06_C.txt\n",
      "/home/jayne/Documentos/MESTRADO/PESQUISA/Rep_Geral_Projeto_VideoVigilancia/Step_2-MatLab/c3d/output_32Segments/Punch/v_Punch_g05_c07_C.txt\n",
      "/home/jayne/Documentos/MESTRADO/PESQUISA/Rep_Geral_Projeto_VideoVigilancia/Step_2-MatLab/c3d/output_32Segments/Punch/v_Punch_g01_c02_C.txt\n",
      "/home/jayne/Documentos/MESTRADO/PESQUISA/Rep_Geral_Projeto_VideoVigilancia/Step_2-MatLab/c3d/output_32Segments/Punch/v_Punch_g11_c02_C.txt\n"
     ]
    },
    {
     "name": "stdout",
     "output_type": "stream",
     "text": [
      "/home/jayne/Documentos/MESTRADO/PESQUISA/Rep_Geral_Projeto_VideoVigilancia/Step_2-MatLab/c3d/output_32Segments/Punch/v_Punch_g18_c02_C.txt\n",
      "/home/jayne/Documentos/MESTRADO/PESQUISA/Rep_Geral_Projeto_VideoVigilancia/Step_2-MatLab/c3d/output_32Segments/Punch/v_Punch_g06_c03_C.txt\n",
      "/home/jayne/Documentos/MESTRADO/PESQUISA/Rep_Geral_Projeto_VideoVigilancia/Step_2-MatLab/c3d/output_32Segments/Punch/v_Punch_g21_c06_C.txt\n",
      "/home/jayne/Documentos/MESTRADO/PESQUISA/Rep_Geral_Projeto_VideoVigilancia/Step_2-MatLab/c3d/output_32Segments/Punch/v_Punch_g17_c05_C.txt\n",
      "/home/jayne/Documentos/MESTRADO/PESQUISA/Rep_Geral_Projeto_VideoVigilancia/Step_2-MatLab/c3d/output_32Segments/Punch/v_Punch_g09_c07_C.txt\n",
      "/home/jayne/Documentos/MESTRADO/PESQUISA/Rep_Geral_Projeto_VideoVigilancia/Step_2-MatLab/c3d/output_32Segments/Punch/v_Punch_g18_c06_C.txt\n",
      "/home/jayne/Documentos/MESTRADO/PESQUISA/Rep_Geral_Projeto_VideoVigilancia/Step_2-MatLab/c3d/output_32Segments/Punch/v_Punch_g14_c05_C.txt\n",
      "/home/jayne/Documentos/MESTRADO/PESQUISA/Rep_Geral_Projeto_VideoVigilancia/Step_2-MatLab/c3d/output_32Segments/Punch/v_Punch_g08_c07_C.txt\n",
      "/home/jayne/Documentos/MESTRADO/PESQUISA/Rep_Geral_Projeto_VideoVigilancia/Step_2-MatLab/c3d/output_32Segments/Punch/v_Punch_g08_c05_C.txt\n",
      "/home/jayne/Documentos/MESTRADO/PESQUISA/Rep_Geral_Projeto_VideoVigilancia/Step_2-MatLab/c3d/output_32Segments/Punch/v_Punch_g16_c01_C.txt\n",
      "/home/jayne/Documentos/MESTRADO/PESQUISA/Rep_Geral_Projeto_VideoVigilancia/Step_2-MatLab/c3d/output_32Segments/Punch/v_Punch_g16_c03_C.txt\n",
      "/home/jayne/Documentos/MESTRADO/PESQUISA/Rep_Geral_Projeto_VideoVigilancia/Step_2-MatLab/c3d/output_32Segments/Punch/v_Punch_g08_c03_C.txt\n",
      "/home/jayne/Documentos/MESTRADO/PESQUISA/Rep_Geral_Projeto_VideoVigilancia/Step_2-MatLab/c3d/output_32Segments/Punch/v_Punch_g07_c02_C.txt\n",
      "/home/jayne/Documentos/MESTRADO/PESQUISA/Rep_Geral_Projeto_VideoVigilancia/Step_2-MatLab/c3d/output_32Segments/Punch/v_Punch_g24_c01_C.txt\n",
      "/home/jayne/Documentos/MESTRADO/PESQUISA/Rep_Geral_Projeto_VideoVigilancia/Step_2-MatLab/c3d/output_32Segments/Punch/v_Punch_g20_c04_C.txt\n",
      "/home/jayne/Documentos/MESTRADO/PESQUISA/Rep_Geral_Projeto_VideoVigilancia/Step_2-MatLab/c3d/output_32Segments/Punch/v_Punch_g24_c07_C.txt\n",
      "/home/jayne/Documentos/MESTRADO/PESQUISA/Rep_Geral_Projeto_VideoVigilancia/Step_2-MatLab/c3d/output_32Segments/Punch/v_Punch_g19_c05_C.txt\n",
      "/home/jayne/Documentos/MESTRADO/PESQUISA/Rep_Geral_Projeto_VideoVigilancia/Step_2-MatLab/c3d/output_32Segments/Punch/v_Punch_g14_c02_C.txt\n",
      "/home/jayne/Documentos/MESTRADO/PESQUISA/Rep_Geral_Projeto_VideoVigilancia/Step_2-MatLab/c3d/output_32Segments/Punch/v_Punch_g19_c03_C.txt\n",
      "/home/jayne/Documentos/MESTRADO/PESQUISA/Rep_Geral_Projeto_VideoVigilancia/Step_2-MatLab/c3d/output_32Segments/Punch/v_Punch_g16_c06_C.txt\n",
      "/home/jayne/Documentos/MESTRADO/PESQUISA/Rep_Geral_Projeto_VideoVigilancia/Step_2-MatLab/c3d/output_32Segments/Punch/v_Punch_g24_c02_C.txt\n",
      "/home/jayne/Documentos/MESTRADO/PESQUISA/Rep_Geral_Projeto_VideoVigilancia/Step_2-MatLab/c3d/output_32Segments/Punch/v_Punch_g20_c03_C.txt\n",
      "/home/jayne/Documentos/MESTRADO/PESQUISA/Rep_Geral_Projeto_VideoVigilancia/Step_2-MatLab/c3d/output_32Segments/Punch/v_Punch_g09_c02_C.txt\n",
      "/home/jayne/Documentos/MESTRADO/PESQUISA/Rep_Geral_Projeto_VideoVigilancia/Step_2-MatLab/c3d/output_32Segments/Punch/v_Punch_g16_c07_C.txt\n",
      "/home/jayne/Documentos/MESTRADO/PESQUISA/Rep_Geral_Projeto_VideoVigilancia/Step_2-MatLab/c3d/output_32Segments/Punch/v_Punch_g12_c07_C.txt\n",
      "/home/jayne/Documentos/MESTRADO/PESQUISA/Rep_Geral_Projeto_VideoVigilancia/Step_2-MatLab/c3d/output_32Segments/Punch/v_Punch_g15_c02_C.txt\n",
      "/home/jayne/Documentos/MESTRADO/PESQUISA/Rep_Geral_Projeto_VideoVigilancia/Step_2-MatLab/c3d/output_32Segments/Punch/v_Punch_g18_c03_C.txt\n",
      "/home/jayne/Documentos/MESTRADO/PESQUISA/Rep_Geral_Projeto_VideoVigilancia/Step_2-MatLab/c3d/output_32Segments/Punch/v_Punch_g08_c02_C.txt\n",
      "/home/jayne/Documentos/MESTRADO/PESQUISA/Rep_Geral_Projeto_VideoVigilancia/Step_2-MatLab/c3d/output_32Segments/Punch/v_Punch_g08_c04_C.txt\n",
      "/home/jayne/Documentos/MESTRADO/PESQUISA/Rep_Geral_Projeto_VideoVigilancia/Step_2-MatLab/c3d/output_32Segments/Punch/v_Punch_g03_c03_C.txt\n",
      "/home/jayne/Documentos/MESTRADO/PESQUISA/Rep_Geral_Projeto_VideoVigilancia/Step_2-MatLab/c3d/output_32Segments/Punch/v_Punch_g02_c03_C.txt\n",
      "/home/jayne/Documentos/MESTRADO/PESQUISA/Rep_Geral_Projeto_VideoVigilancia/Step_2-MatLab/c3d/output_32Segments/Punch/v_Punch_g11_c04_C.txt\n",
      "/home/jayne/Documentos/MESTRADO/PESQUISA/Rep_Geral_Projeto_VideoVigilancia/Step_2-MatLab/c3d/output_32Segments/Punch/v_Punch_g10_c02_C.txt\n",
      "/home/jayne/Documentos/MESTRADO/PESQUISA/Rep_Geral_Projeto_VideoVigilancia/Step_2-MatLab/c3d/output_32Segments/Punch/v_Punch_g13_c04_C.txt\n",
      "/home/jayne/Documentos/MESTRADO/PESQUISA/Rep_Geral_Projeto_VideoVigilancia/Step_2-MatLab/c3d/output_32Segments/Punch/v_Punch_g10_c01_C.txt\n",
      "/home/jayne/Documentos/MESTRADO/PESQUISA/Rep_Geral_Projeto_VideoVigilancia/Step_2-MatLab/c3d/output_32Segments/Punch/v_Punch_g07_c01_C.txt\n",
      "/home/jayne/Documentos/MESTRADO/PESQUISA/Rep_Geral_Projeto_VideoVigilancia/Step_2-MatLab/c3d/output_32Segments/Punch/v_Punch_g14_c04_C.txt\n",
      "/home/jayne/Documentos/MESTRADO/PESQUISA/Rep_Geral_Projeto_VideoVigilancia/Step_2-MatLab/c3d/output_32Segments/Punch/v_Punch_g25_c05_C.txt\n",
      "/home/jayne/Documentos/MESTRADO/PESQUISA/Rep_Geral_Projeto_VideoVigilancia/Step_2-MatLab/c3d/output_32Segments/Punch/v_Punch_g15_c05_C.txt\n",
      "/home/jayne/Documentos/MESTRADO/PESQUISA/Rep_Geral_Projeto_VideoVigilancia/Step_2-MatLab/c3d/output_32Segments/Punch/v_Punch_g16_c02_C.txt\n",
      "/home/jayne/Documentos/MESTRADO/PESQUISA/Rep_Geral_Projeto_VideoVigilancia/Step_2-MatLab/c3d/output_32Segments/Punch/v_Punch_g13_c07_C.txt\n",
      "/home/jayne/Documentos/MESTRADO/PESQUISA/Rep_Geral_Projeto_VideoVigilancia/Step_2-MatLab/c3d/output_32Segments/Punch/v_Punch_g23_c07_C.txt\n",
      "/home/jayne/Documentos/MESTRADO/PESQUISA/Rep_Geral_Projeto_VideoVigilancia/Step_2-MatLab/c3d/output_32Segments/Punch/v_Punch_g17_c06_C.txt\n",
      "/home/jayne/Documentos/MESTRADO/PESQUISA/Rep_Geral_Projeto_VideoVigilancia/Step_2-MatLab/c3d/output_32Segments/Punch/v_Punch_g10_c05_C.txt\n",
      "/home/jayne/Documentos/MESTRADO/PESQUISA/Rep_Geral_Projeto_VideoVigilancia/Step_2-MatLab/c3d/output_32Segments/Punch/v_Punch_g06_c07_C.txt\n",
      "/home/jayne/Documentos/MESTRADO/PESQUISA/Rep_Geral_Projeto_VideoVigilancia/Step_2-MatLab/c3d/output_32Segments/Punch/v_Punch_g14_c01_C.txt\n",
      "/home/jayne/Documentos/MESTRADO/PESQUISA/Rep_Geral_Projeto_VideoVigilancia/Step_2-MatLab/c3d/output_32Segments/Punch/v_Punch_g24_c03_C.txt\n",
      "/home/jayne/Documentos/MESTRADO/PESQUISA/Rep_Geral_Projeto_VideoVigilancia/Step_2-MatLab/c3d/output_32Segments/Punch/v_Punch_g13_c06_C.txt\n",
      "/home/jayne/Documentos/MESTRADO/PESQUISA/Rep_Geral_Projeto_VideoVigilancia/Step_2-MatLab/c3d/output_32Segments/Punch/v_Punch_g21_c03_C.txt\n",
      "/home/jayne/Documentos/MESTRADO/PESQUISA/Rep_Geral_Projeto_VideoVigilancia/Step_2-MatLab/c3d/output_32Segments/Punch/v_Punch_g25_c02_C.txt\n",
      "/home/jayne/Documentos/MESTRADO/PESQUISA/Rep_Geral_Projeto_VideoVigilancia/Step_2-MatLab/c3d/output_32Segments/Punch/v_Punch_g09_c06_C.txt\n",
      "/home/jayne/Documentos/MESTRADO/PESQUISA/Rep_Geral_Projeto_VideoVigilancia/Step_2-MatLab/c3d/output_32Segments/Punch/v_Punch_g16_c04_C.txt\n",
      "/home/jayne/Documentos/MESTRADO/PESQUISA/Rep_Geral_Projeto_VideoVigilancia/Step_2-MatLab/c3d/output_32Segments/Punch/v_Punch_g15_c03_C.txt\n",
      "/home/jayne/Documentos/MESTRADO/PESQUISA/Rep_Geral_Projeto_VideoVigilancia/Step_2-MatLab/c3d/output_32Segments/Punch/v_Punch_g07_c06_C.txt\n",
      "/home/jayne/Documentos/MESTRADO/PESQUISA/Rep_Geral_Projeto_VideoVigilancia/Step_2-MatLab/c3d/output_32Segments/Punch/v_Punch_g21_c01_C.txt\n",
      "/home/jayne/Documentos/MESTRADO/PESQUISA/Rep_Geral_Projeto_VideoVigilancia/Step_2-MatLab/c3d/output_32Segments/Punch/v_Punch_g13_c01_C.txt\n",
      "/home/jayne/Documentos/MESTRADO/PESQUISA/Rep_Geral_Projeto_VideoVigilancia/Step_2-MatLab/c3d/output_32Segments/Punch/v_Punch_g04_c05_C.txt\n",
      "/home/jayne/Documentos/MESTRADO/PESQUISA/Rep_Geral_Projeto_VideoVigilancia/Step_2-MatLab/c3d/output_32Segments/Punch/v_Punch_g21_c05_C.txt\n",
      "/home/jayne/Documentos/MESTRADO/PESQUISA/Rep_Geral_Projeto_VideoVigilancia/Step_2-MatLab/c3d/output_32Segments/Punch/v_Punch_g18_c01_C.txt\n"
     ]
    },
    {
     "name": "stdout",
     "output_type": "stream",
     "text": [
      "/home/jayne/Documentos/MESTRADO/PESQUISA/Rep_Geral_Projeto_VideoVigilancia/Step_2-MatLab/c3d/output_32Segments/Punch/v_Punch_g23_c02_C.txt\n",
      "/home/jayne/Documentos/MESTRADO/PESQUISA/Rep_Geral_Projeto_VideoVigilancia/Step_2-MatLab/c3d/output_32Segments/Punch/v_Punch_g04_c03_C.txt\n",
      "/home/jayne/Documentos/MESTRADO/PESQUISA/Rep_Geral_Projeto_VideoVigilancia/Step_2-MatLab/c3d/output_32Segments/Punch/v_Punch_g21_c07_C.txt\n",
      "/home/jayne/Documentos/MESTRADO/PESQUISA/Rep_Geral_Projeto_VideoVigilancia/Step_2-MatLab/c3d/output_32Segments/Punch/v_Punch_g22_c06_C.txt\n",
      "/home/jayne/Documentos/MESTRADO/PESQUISA/Rep_Geral_Projeto_VideoVigilancia/Step_2-MatLab/c3d/output_32Segments/Punch/v_Punch_g07_c03_C.txt\n",
      "/home/jayne/Documentos/MESTRADO/PESQUISA/Rep_Geral_Projeto_VideoVigilancia/Step_2-MatLab/c3d/output_32Segments/Punch/v_Punch_g24_c06_C.txt\n",
      "/home/jayne/Documentos/MESTRADO/PESQUISA/Rep_Geral_Projeto_VideoVigilancia/Step_2-MatLab/c3d/output_32Segments/Punch/v_Punch_g14_c06_C.txt\n",
      "/home/jayne/Documentos/MESTRADO/PESQUISA/Rep_Geral_Projeto_VideoVigilancia/Step_2-MatLab/c3d/output_32Segments/Punch/v_Punch_g11_c07_C.txt\n",
      "/home/jayne/Documentos/MESTRADO/PESQUISA/Rep_Geral_Projeto_VideoVigilancia/Step_2-MatLab/c3d/output_32Segments/Punch/v_Punch_g01_c04_C.txt\n",
      "/home/jayne/Documentos/MESTRADO/PESQUISA/Rep_Geral_Projeto_VideoVigilancia/Step_2-MatLab/c3d/output_32Segments/Punch/v_Punch_g05_c01_C.txt\n",
      "/home/jayne/Documentos/MESTRADO/PESQUISA/Rep_Geral_Projeto_VideoVigilancia/Step_2-MatLab/c3d/output_32Segments/Punch/v_Punch_g10_c06_C.txt\n",
      "/home/jayne/Documentos/MESTRADO/PESQUISA/Rep_Geral_Projeto_VideoVigilancia/Step_2-MatLab/c3d/output_32Segments/Punch/v_Punch_g16_c05_C.txt\n",
      "/home/jayne/Documentos/MESTRADO/PESQUISA/Rep_Geral_Projeto_VideoVigilancia/Step_2-MatLab/c3d/output_32Segments/Punch/v_Punch_g08_c01_C.txt\n",
      "/home/jayne/Documentos/MESTRADO/PESQUISA/Rep_Geral_Projeto_VideoVigilancia/Step_2-MatLab/c3d/output_32Segments/Punch/v_Punch_g14_c07_C.txt\n",
      "/home/jayne/Documentos/MESTRADO/PESQUISA/Rep_Geral_Projeto_VideoVigilancia/Step_2-MatLab/c3d/output_32Segments/Punch/v_Punch_g21_c02_C.txt\n",
      "/home/jayne/Documentos/MESTRADO/PESQUISA/Rep_Geral_Projeto_VideoVigilancia/Step_2-MatLab/c3d/output_32Segments/Punch/v_Punch_g20_c02_C.txt\n",
      "/home/jayne/Documentos/MESTRADO/PESQUISA/Rep_Geral_Projeto_VideoVigilancia/Step_2-MatLab/c3d/output_32Segments/Punch/v_Punch_g13_c02_C.txt\n",
      "/home/jayne/Documentos/MESTRADO/PESQUISA/Rep_Geral_Projeto_VideoVigilancia/Step_2-MatLab/c3d/output_32Segments/Punch/v_Punch_g23_c01_C.txt\n",
      "/home/jayne/Documentos/MESTRADO/PESQUISA/Rep_Geral_Projeto_VideoVigilancia/Step_2-MatLab/c3d/output_32Segments/Punch/v_Punch_g02_c04_C.txt\n",
      "/home/jayne/Documentos/MESTRADO/PESQUISA/Rep_Geral_Projeto_VideoVigilancia/Step_2-MatLab/c3d/output_32Segments/Punch/v_Punch_g24_c04_C.txt\n",
      "/home/jayne/Documentos/MESTRADO/PESQUISA/Rep_Geral_Projeto_VideoVigilancia/Step_2-MatLab/c3d/output_32Segments/Punch/v_Punch_g11_c03_C.txt\n",
      "/home/jayne/Documentos/MESTRADO/PESQUISA/Rep_Geral_Projeto_VideoVigilancia/Step_2-MatLab/c3d/output_32Segments/Punch/v_Punch_g19_c01_C.txt\n",
      "/home/jayne/Documentos/MESTRADO/PESQUISA/Rep_Geral_Projeto_VideoVigilancia/Step_2-MatLab/c3d/output_32Segments/Punch/v_Punch_g12_c05_C.txt\n",
      "/home/jayne/Documentos/MESTRADO/PESQUISA/Rep_Geral_Projeto_VideoVigilancia/Step_2-MatLab/c3d/output_32Segments/Punch/v_Punch_g11_c05_C.txt\n",
      "/home/jayne/Documentos/MESTRADO/PESQUISA/Rep_Geral_Projeto_VideoVigilancia/Step_2-MatLab/c3d/output_32Segments/Punch/v_Punch_g23_c06_C.txt\n",
      "/home/jayne/Documentos/MESTRADO/PESQUISA/Rep_Geral_Projeto_VideoVigilancia/Step_2-MatLab/c3d/output_32Segments/Punch/v_Punch_g25_c01_C.txt\n",
      "/home/jayne/Documentos/MESTRADO/PESQUISA/Rep_Geral_Projeto_VideoVigilancia/Step_2-MatLab/c3d/output_32Segments/Punch/v_Punch_g05_c02_C.txt\n",
      "/home/jayne/Documentos/MESTRADO/PESQUISA/Rep_Geral_Projeto_VideoVigilancia/Step_2-MatLab/c3d/output_32Segments/Punch/v_Punch_g24_c05_C.txt\n",
      "/home/jayne/Documentos/MESTRADO/PESQUISA/Rep_Geral_Projeto_VideoVigilancia/Step_2-MatLab/c3d/output_32Segments/Punch/v_Punch_g14_c03_C.txt\n",
      "/home/jayne/Documentos/MESTRADO/PESQUISA/Rep_Geral_Projeto_VideoVigilancia/Step_2-MatLab/c3d/output_32Segments/Punch/v_Punch_g07_c07_C.txt\n",
      "/home/jayne/Documentos/MESTRADO/PESQUISA/Rep_Geral_Projeto_VideoVigilancia/Step_2-MatLab/c3d/output_32Segments/Punch/v_Punch_g15_c04_C.txt\n",
      "/home/jayne/Documentos/MESTRADO/PESQUISA/Rep_Geral_Projeto_VideoVigilancia/Step_2-MatLab/c3d/output_32Segments/Punch/v_Punch_g17_c03_C.txt\n",
      "/home/jayne/Documentos/MESTRADO/PESQUISA/Rep_Geral_Projeto_VideoVigilancia/Step_2-MatLab/c3d/output_32Segments/Punch/v_Punch_g19_c02_C.txt\n",
      "/home/jayne/Documentos/MESTRADO/PESQUISA/Rep_Geral_Projeto_VideoVigilancia/Step_2-MatLab/c3d/output_32Segments/Punch/v_Punch_g18_c07_C.txt\n",
      "/home/jayne/Documentos/MESTRADO/PESQUISA/Rep_Geral_Projeto_VideoVigilancia/Step_2-MatLab/c3d/output_32Segments/Punch/v_Punch_g05_c03_C.txt\n",
      "/home/jayne/Documentos/MESTRADO/PESQUISA/Rep_Geral_Projeto_VideoVigilancia/Step_2-MatLab/c3d/output_32Segments/Punch/v_Punch_g09_c04_C.txt\n",
      "/home/jayne/Documentos/MESTRADO/PESQUISA/Rep_Geral_Projeto_VideoVigilancia/Step_2-MatLab/c3d/output_32Segments/Punch/v_Punch_g17_c07_C.txt\n",
      "/home/jayne/Documentos/MESTRADO/PESQUISA/Rep_Geral_Projeto_VideoVigilancia/Step_2-MatLab/c3d/output_32Segments/Punch/v_Punch_g19_c07_C.txt\n",
      "/home/jayne/Documentos/MESTRADO/PESQUISA/Rep_Geral_Projeto_VideoVigilancia/Step_2-MatLab/c3d/output_32Segments/Punch/v_Punch_g15_c06_C.txt\n",
      "/home/jayne/Documentos/MESTRADO/PESQUISA/Rep_Geral_Projeto_VideoVigilancia/Step_2-MatLab/c3d/output_32Segments/Punch/v_Punch_g09_c03_C.txt\n",
      "/home/jayne/Documentos/MESTRADO/PESQUISA/Rep_Geral_Projeto_VideoVigilancia/Step_2-MatLab/c3d/output_32Segments/Punch/v_Punch_g09_c05_C.txt\n",
      "/home/jayne/Documentos/MESTRADO/PESQUISA/Rep_Geral_Projeto_VideoVigilancia/Step_2-MatLab/c3d/output_32Segments/Punch/v_Punch_g22_c05_C.txt\n",
      "/home/jayne/Documentos/MESTRADO/PESQUISA/Rep_Geral_Projeto_VideoVigilancia/Step_2-MatLab/c3d/output_32Segments/Punch/v_Punch_g12_c01_C.txt\n",
      "/home/jayne/Documentos/MESTRADO/PESQUISA/Rep_Geral_Projeto_VideoVigilancia/Step_2-MatLab/c3d/output_32Segments/Punch/v_Punch_g09_c01_C.txt\n",
      "/home/jayne/Documentos/MESTRADO/PESQUISA/Rep_Geral_Projeto_VideoVigilancia/Step_2-MatLab/c3d/output_32Segments/JumpRope/\n",
      "/home/jayne/Documentos/MESTRADO/PESQUISA/Rep_Geral_Projeto_VideoVigilancia/Step_2-MatLab/c3d/output_32Segments/JumpRope/v_JumpRope_g17_c04_C.txt\n",
      "/home/jayne/Documentos/MESTRADO/PESQUISA/Rep_Geral_Projeto_VideoVigilancia/Step_2-MatLab/c3d/output_32Segments/JumpRope/v_JumpRope_g01_c04_C.txt\n",
      "/home/jayne/Documentos/MESTRADO/PESQUISA/Rep_Geral_Projeto_VideoVigilancia/Step_2-MatLab/c3d/output_32Segments/JumpRope/v_JumpRope_g10_c02_C.txt\n",
      "/home/jayne/Documentos/MESTRADO/PESQUISA/Rep_Geral_Projeto_VideoVigilancia/Step_2-MatLab/c3d/output_32Segments/JumpRope/v_JumpRope_g03_c04_C.txt\n",
      "/home/jayne/Documentos/MESTRADO/PESQUISA/Rep_Geral_Projeto_VideoVigilancia/Step_2-MatLab/c3d/output_32Segments/JumpRope/v_JumpRope_g04_c06_C.txt\n",
      "/home/jayne/Documentos/MESTRADO/PESQUISA/Rep_Geral_Projeto_VideoVigilancia/Step_2-MatLab/c3d/output_32Segments/JumpRope/v_JumpRope_g24_c01_C.txt\n",
      "/home/jayne/Documentos/MESTRADO/PESQUISA/Rep_Geral_Projeto_VideoVigilancia/Step_2-MatLab/c3d/output_32Segments/JumpRope/v_JumpRope_g06_c05_C.txt\n",
      "/home/jayne/Documentos/MESTRADO/PESQUISA/Rep_Geral_Projeto_VideoVigilancia/Step_2-MatLab/c3d/output_32Segments/JumpRope/v_JumpRope_g08_c06_C.txt\n",
      "/home/jayne/Documentos/MESTRADO/PESQUISA/Rep_Geral_Projeto_VideoVigilancia/Step_2-MatLab/c3d/output_32Segments/JumpRope/v_JumpRope_g25_c03_C.txt\n",
      "/home/jayne/Documentos/MESTRADO/PESQUISA/Rep_Geral_Projeto_VideoVigilancia/Step_2-MatLab/c3d/output_32Segments/JumpRope/v_JumpRope_g14_c02_C.txt\n",
      "/home/jayne/Documentos/MESTRADO/PESQUISA/Rep_Geral_Projeto_VideoVigilancia/Step_2-MatLab/c3d/output_32Segments/JumpRope/v_JumpRope_g25_c01_C.txt\n",
      "/home/jayne/Documentos/MESTRADO/PESQUISA/Rep_Geral_Projeto_VideoVigilancia/Step_2-MatLab/c3d/output_32Segments/JumpRope/v_JumpRope_g21_c02_C.txt\n",
      "/home/jayne/Documentos/MESTRADO/PESQUISA/Rep_Geral_Projeto_VideoVigilancia/Step_2-MatLab/c3d/output_32Segments/JumpRope/v_JumpRope_g08_c05_C.txt\n",
      "/home/jayne/Documentos/MESTRADO/PESQUISA/Rep_Geral_Projeto_VideoVigilancia/Step_2-MatLab/c3d/output_32Segments/JumpRope/v_JumpRope_g16_c06_C.txt\n"
     ]
    },
    {
     "name": "stdout",
     "output_type": "stream",
     "text": [
      "/home/jayne/Documentos/MESTRADO/PESQUISA/Rep_Geral_Projeto_VideoVigilancia/Step_2-MatLab/c3d/output_32Segments/JumpRope/v_JumpRope_g07_c04_C.txt\n",
      "/home/jayne/Documentos/MESTRADO/PESQUISA/Rep_Geral_Projeto_VideoVigilancia/Step_2-MatLab/c3d/output_32Segments/JumpRope/v_JumpRope_g06_c04_C.txt\n",
      "/home/jayne/Documentos/MESTRADO/PESQUISA/Rep_Geral_Projeto_VideoVigilancia/Step_2-MatLab/c3d/output_32Segments/JumpRope/v_JumpRope_g08_c02_C.txt\n",
      "/home/jayne/Documentos/MESTRADO/PESQUISA/Rep_Geral_Projeto_VideoVigilancia/Step_2-MatLab/c3d/output_32Segments/JumpRope/v_JumpRope_g25_c06_C.txt\n",
      "/home/jayne/Documentos/MESTRADO/PESQUISA/Rep_Geral_Projeto_VideoVigilancia/Step_2-MatLab/c3d/output_32Segments/JumpRope/v_JumpRope_g16_c07_C.txt\n",
      "/home/jayne/Documentos/MESTRADO/PESQUISA/Rep_Geral_Projeto_VideoVigilancia/Step_2-MatLab/c3d/output_32Segments/JumpRope/v_JumpRope_g05_c05_C.txt\n",
      "/home/jayne/Documentos/MESTRADO/PESQUISA/Rep_Geral_Projeto_VideoVigilancia/Step_2-MatLab/c3d/output_32Segments/JumpRope/v_JumpRope_g13_c04_C.txt\n",
      "/home/jayne/Documentos/MESTRADO/PESQUISA/Rep_Geral_Projeto_VideoVigilancia/Step_2-MatLab/c3d/output_32Segments/JumpRope/v_JumpRope_g06_c02_C.txt\n",
      "/home/jayne/Documentos/MESTRADO/PESQUISA/Rep_Geral_Projeto_VideoVigilancia/Step_2-MatLab/c3d/output_32Segments/JumpRope/v_JumpRope_g24_c07_C.txt\n",
      "/home/jayne/Documentos/MESTRADO/PESQUISA/Rep_Geral_Projeto_VideoVigilancia/Step_2-MatLab/c3d/output_32Segments/JumpRope/v_JumpRope_g15_c04_C.txt\n",
      "/home/jayne/Documentos/MESTRADO/PESQUISA/Rep_Geral_Projeto_VideoVigilancia/Step_2-MatLab/c3d/output_32Segments/JumpRope/v_JumpRope_g18_c07_C.txt\n",
      "/home/jayne/Documentos/MESTRADO/PESQUISA/Rep_Geral_Projeto_VideoVigilancia/Step_2-MatLab/c3d/output_32Segments/JumpRope/v_JumpRope_g04_c05_C.txt\n",
      "/home/jayne/Documentos/MESTRADO/PESQUISA/Rep_Geral_Projeto_VideoVigilancia/Step_2-MatLab/c3d/output_32Segments/JumpRope/v_JumpRope_g05_c02_C.txt\n",
      "/home/jayne/Documentos/MESTRADO/PESQUISA/Rep_Geral_Projeto_VideoVigilancia/Step_2-MatLab/c3d/output_32Segments/JumpRope/v_JumpRope_g10_c01_C.txt\n",
      "/home/jayne/Documentos/MESTRADO/PESQUISA/Rep_Geral_Projeto_VideoVigilancia/Step_2-MatLab/c3d/output_32Segments/JumpRope/v_JumpRope_g03_c03_C.txt\n",
      "/home/jayne/Documentos/MESTRADO/PESQUISA/Rep_Geral_Projeto_VideoVigilancia/Step_2-MatLab/c3d/output_32Segments/JumpRope/v_JumpRope_g01_c03_C.txt\n",
      "/home/jayne/Documentos/MESTRADO/PESQUISA/Rep_Geral_Projeto_VideoVigilancia/Step_2-MatLab/c3d/output_32Segments/JumpRope/v_JumpRope_g02_c04_C.txt\n",
      "/home/jayne/Documentos/MESTRADO/PESQUISA/Rep_Geral_Projeto_VideoVigilancia/Step_2-MatLab/c3d/output_32Segments/JumpRope/v_JumpRope_g12_c04_C.txt\n",
      "/home/jayne/Documentos/MESTRADO/PESQUISA/Rep_Geral_Projeto_VideoVigilancia/Step_2-MatLab/c3d/output_32Segments/JumpRope/v_JumpRope_g11_c06_C.txt\n",
      "/home/jayne/Documentos/MESTRADO/PESQUISA/Rep_Geral_Projeto_VideoVigilancia/Step_2-MatLab/c3d/output_32Segments/JumpRope/v_JumpRope_g09_c01_C.txt\n",
      "/home/jayne/Documentos/MESTRADO/PESQUISA/Rep_Geral_Projeto_VideoVigilancia/Step_2-MatLab/c3d/output_32Segments/JumpRope/v_JumpRope_g25_c02_C.txt\n",
      "/home/jayne/Documentos/MESTRADO/PESQUISA/Rep_Geral_Projeto_VideoVigilancia/Step_2-MatLab/c3d/output_32Segments/JumpRope/v_JumpRope_g07_c01_C.txt\n",
      "/home/jayne/Documentos/MESTRADO/PESQUISA/Rep_Geral_Projeto_VideoVigilancia/Step_2-MatLab/c3d/output_32Segments/JumpRope/v_JumpRope_g23_c04_C.txt\n",
      "/home/jayne/Documentos/MESTRADO/PESQUISA/Rep_Geral_Projeto_VideoVigilancia/Step_2-MatLab/c3d/output_32Segments/JumpRope/v_JumpRope_g08_c07_C.txt\n",
      "/home/jayne/Documentos/MESTRADO/PESQUISA/Rep_Geral_Projeto_VideoVigilancia/Step_2-MatLab/c3d/output_32Segments/JumpRope/v_JumpRope_g21_c07_C.txt\n",
      "/home/jayne/Documentos/MESTRADO/PESQUISA/Rep_Geral_Projeto_VideoVigilancia/Step_2-MatLab/c3d/output_32Segments/JumpRope/v_JumpRope_g01_c01_C.txt\n",
      "/home/jayne/Documentos/MESTRADO/PESQUISA/Rep_Geral_Projeto_VideoVigilancia/Step_2-MatLab/c3d/output_32Segments/JumpRope/v_JumpRope_g04_c03_C.txt\n",
      "/home/jayne/Documentos/MESTRADO/PESQUISA/Rep_Geral_Projeto_VideoVigilancia/Step_2-MatLab/c3d/output_32Segments/JumpRope/v_JumpRope_g06_c03_C.txt\n",
      "/home/jayne/Documentos/MESTRADO/PESQUISA/Rep_Geral_Projeto_VideoVigilancia/Step_2-MatLab/c3d/output_32Segments/JumpRope/v_JumpRope_g08_c01_C.txt\n",
      "/home/jayne/Documentos/MESTRADO/PESQUISA/Rep_Geral_Projeto_VideoVigilancia/Step_2-MatLab/c3d/output_32Segments/JumpRope/v_JumpRope_g14_c04_C.txt\n",
      "/home/jayne/Documentos/MESTRADO/PESQUISA/Rep_Geral_Projeto_VideoVigilancia/Step_2-MatLab/c3d/output_32Segments/JumpRope/v_JumpRope_g20_c06_C.txt\n",
      "/home/jayne/Documentos/MESTRADO/PESQUISA/Rep_Geral_Projeto_VideoVigilancia/Step_2-MatLab/c3d/output_32Segments/JumpRope/v_JumpRope_g08_c03_C.txt\n",
      "/home/jayne/Documentos/MESTRADO/PESQUISA/Rep_Geral_Projeto_VideoVigilancia/Step_2-MatLab/c3d/output_32Segments/JumpRope/v_JumpRope_g24_c02_C.txt\n",
      "/home/jayne/Documentos/MESTRADO/PESQUISA/Rep_Geral_Projeto_VideoVigilancia/Step_2-MatLab/c3d/output_32Segments/JumpRope/v_JumpRope_g20_c03_C.txt\n",
      "/home/jayne/Documentos/MESTRADO/PESQUISA/Rep_Geral_Projeto_VideoVigilancia/Step_2-MatLab/c3d/output_32Segments/JumpRope/v_JumpRope_g03_c02_C.txt\n",
      "/home/jayne/Documentos/MESTRADO/PESQUISA/Rep_Geral_Projeto_VideoVigilancia/Step_2-MatLab/c3d/output_32Segments/JumpRope/v_JumpRope_g24_c03_C.txt\n",
      "/home/jayne/Documentos/MESTRADO/PESQUISA/Rep_Geral_Projeto_VideoVigilancia/Step_2-MatLab/c3d/output_32Segments/JumpRope/v_JumpRope_g21_c04_C.txt\n",
      "/home/jayne/Documentos/MESTRADO/PESQUISA/Rep_Geral_Projeto_VideoVigilancia/Step_2-MatLab/c3d/output_32Segments/JumpRope/v_JumpRope_g18_c05_C.txt\n",
      "/home/jayne/Documentos/MESTRADO/PESQUISA/Rep_Geral_Projeto_VideoVigilancia/Step_2-MatLab/c3d/output_32Segments/JumpRope/v_JumpRope_g19_c04_C.txt\n",
      "/home/jayne/Documentos/MESTRADO/PESQUISA/Rep_Geral_Projeto_VideoVigilancia/Step_2-MatLab/c3d/output_32Segments/JumpRope/v_JumpRope_g22_c05_C.txt\n",
      "/home/jayne/Documentos/MESTRADO/PESQUISA/Rep_Geral_Projeto_VideoVigilancia/Step_2-MatLab/c3d/output_32Segments/JumpRope/v_JumpRope_g14_c03_C.txt\n",
      "/home/jayne/Documentos/MESTRADO/PESQUISA/Rep_Geral_Projeto_VideoVigilancia/Step_2-MatLab/c3d/output_32Segments/JumpRope/v_JumpRope_g10_c04_C.txt\n",
      "/home/jayne/Documentos/MESTRADO/PESQUISA/Rep_Geral_Projeto_VideoVigilancia/Step_2-MatLab/c3d/output_32Segments/JumpRope/v_JumpRope_g15_c01_C.txt\n",
      "/home/jayne/Documentos/MESTRADO/PESQUISA/Rep_Geral_Projeto_VideoVigilancia/Step_2-MatLab/c3d/output_32Segments/JumpRope/v_JumpRope_g17_c01_C.txt\n",
      "/home/jayne/Documentos/MESTRADO/PESQUISA/Rep_Geral_Projeto_VideoVigilancia/Step_2-MatLab/c3d/output_32Segments/JumpRope/v_JumpRope_g22_c06_C.txt\n",
      "/home/jayne/Documentos/MESTRADO/PESQUISA/Rep_Geral_Projeto_VideoVigilancia/Step_2-MatLab/c3d/output_32Segments/JumpRope/v_JumpRope_g13_c01_C.txt\n",
      "/home/jayne/Documentos/MESTRADO/PESQUISA/Rep_Geral_Projeto_VideoVigilancia/Step_2-MatLab/c3d/output_32Segments/JumpRope/v_JumpRope_g11_c03_C.txt\n",
      "/home/jayne/Documentos/MESTRADO/PESQUISA/Rep_Geral_Projeto_VideoVigilancia/Step_2-MatLab/c3d/output_32Segments/JumpRope/v_JumpRope_g20_c04_C.txt\n",
      "/home/jayne/Documentos/MESTRADO/PESQUISA/Rep_Geral_Projeto_VideoVigilancia/Step_2-MatLab/c3d/output_32Segments/JumpRope/v_JumpRope_g22_c02_C.txt\n",
      "/home/jayne/Documentos/MESTRADO/PESQUISA/Rep_Geral_Projeto_VideoVigilancia/Step_2-MatLab/c3d/output_32Segments/JumpRope/v_JumpRope_g21_c05_C.txt\n",
      "/home/jayne/Documentos/MESTRADO/PESQUISA/Rep_Geral_Projeto_VideoVigilancia/Step_2-MatLab/c3d/output_32Segments/JumpRope/v_JumpRope_g07_c02_C.txt\n",
      "/home/jayne/Documentos/MESTRADO/PESQUISA/Rep_Geral_Projeto_VideoVigilancia/Step_2-MatLab/c3d/output_32Segments/JumpRope/v_JumpRope_g18_c01_C.txt\n",
      "/home/jayne/Documentos/MESTRADO/PESQUISA/Rep_Geral_Projeto_VideoVigilancia/Step_2-MatLab/c3d/output_32Segments/JumpRope/v_JumpRope_g07_c05_C.txt\n",
      "/home/jayne/Documentos/MESTRADO/PESQUISA/Rep_Geral_Projeto_VideoVigilancia/Step_2-MatLab/c3d/output_32Segments/JumpRope/v_JumpRope_g23_c03_C.txt\n",
      "/home/jayne/Documentos/MESTRADO/PESQUISA/Rep_Geral_Projeto_VideoVigilancia/Step_2-MatLab/c3d/output_32Segments/JumpRope/v_JumpRope_g02_c06_C.txt\n",
      "/home/jayne/Documentos/MESTRADO/PESQUISA/Rep_Geral_Projeto_VideoVigilancia/Step_2-MatLab/c3d/output_32Segments/JumpRope/v_JumpRope_g15_c03_C.txt\n",
      "/home/jayne/Documentos/MESTRADO/PESQUISA/Rep_Geral_Projeto_VideoVigilancia/Step_2-MatLab/c3d/output_32Segments/JumpRope/v_JumpRope_g07_c03_C.txt\n"
     ]
    },
    {
     "name": "stdout",
     "output_type": "stream",
     "text": [
      "/home/jayne/Documentos/MESTRADO/PESQUISA/Rep_Geral_Projeto_VideoVigilancia/Step_2-MatLab/c3d/output_32Segments/JumpRope/v_JumpRope_g14_c01_C.txt\n",
      "/home/jayne/Documentos/MESTRADO/PESQUISA/Rep_Geral_Projeto_VideoVigilancia/Step_2-MatLab/c3d/output_32Segments/JumpRope/v_JumpRope_g05_c01_C.txt\n",
      "/home/jayne/Documentos/MESTRADO/PESQUISA/Rep_Geral_Projeto_VideoVigilancia/Step_2-MatLab/c3d/output_32Segments/JumpRope/v_JumpRope_g24_c05_C.txt\n",
      "/home/jayne/Documentos/MESTRADO/PESQUISA/Rep_Geral_Projeto_VideoVigilancia/Step_2-MatLab/c3d/output_32Segments/JumpRope/v_JumpRope_g20_c05_C.txt\n",
      "/home/jayne/Documentos/MESTRADO/PESQUISA/Rep_Geral_Projeto_VideoVigilancia/Step_2-MatLab/c3d/output_32Segments/JumpRope/v_JumpRope_g09_c06_C.txt\n",
      "/home/jayne/Documentos/MESTRADO/PESQUISA/Rep_Geral_Projeto_VideoVigilancia/Step_2-MatLab/c3d/output_32Segments/JumpRope/v_JumpRope_g20_c02_C.txt\n",
      "/home/jayne/Documentos/MESTRADO/PESQUISA/Rep_Geral_Projeto_VideoVigilancia/Step_2-MatLab/c3d/output_32Segments/JumpRope/v_JumpRope_g12_c02_C.txt\n",
      "/home/jayne/Documentos/MESTRADO/PESQUISA/Rep_Geral_Projeto_VideoVigilancia/Step_2-MatLab/c3d/output_32Segments/JumpRope/v_JumpRope_g08_c04_C.txt\n",
      "/home/jayne/Documentos/MESTRADO/PESQUISA/Rep_Geral_Projeto_VideoVigilancia/Step_2-MatLab/c3d/output_32Segments/JumpRope/v_JumpRope_g16_c04_C.txt\n",
      "/home/jayne/Documentos/MESTRADO/PESQUISA/Rep_Geral_Projeto_VideoVigilancia/Step_2-MatLab/c3d/output_32Segments/JumpRope/v_JumpRope_g19_c03_C.txt\n",
      "/home/jayne/Documentos/MESTRADO/PESQUISA/Rep_Geral_Projeto_VideoVigilancia/Step_2-MatLab/c3d/output_32Segments/JumpRope/v_JumpRope_g24_c06_C.txt\n",
      "/home/jayne/Documentos/MESTRADO/PESQUISA/Rep_Geral_Projeto_VideoVigilancia/Step_2-MatLab/c3d/output_32Segments/JumpRope/v_JumpRope_g16_c03_C.txt\n",
      "/home/jayne/Documentos/MESTRADO/PESQUISA/Rep_Geral_Projeto_VideoVigilancia/Step_2-MatLab/c3d/output_32Segments/JumpRope/v_JumpRope_g11_c05_C.txt\n",
      "/home/jayne/Documentos/MESTRADO/PESQUISA/Rep_Geral_Projeto_VideoVigilancia/Step_2-MatLab/c3d/output_32Segments/JumpRope/v_JumpRope_g20_c01_C.txt\n",
      "/home/jayne/Documentos/MESTRADO/PESQUISA/Rep_Geral_Projeto_VideoVigilancia/Step_2-MatLab/c3d/output_32Segments/JumpRope/v_JumpRope_g04_c01_C.txt\n",
      "/home/jayne/Documentos/MESTRADO/PESQUISA/Rep_Geral_Projeto_VideoVigilancia/Step_2-MatLab/c3d/output_32Segments/JumpRope/v_JumpRope_g12_c05_C.txt\n",
      "/home/jayne/Documentos/MESTRADO/PESQUISA/Rep_Geral_Projeto_VideoVigilancia/Step_2-MatLab/c3d/output_32Segments/JumpRope/v_JumpRope_g09_c05_C.txt\n",
      "/home/jayne/Documentos/MESTRADO/PESQUISA/Rep_Geral_Projeto_VideoVigilancia/Step_2-MatLab/c3d/output_32Segments/JumpRope/v_JumpRope_g13_c03_C.txt\n",
      "/home/jayne/Documentos/MESTRADO/PESQUISA/Rep_Geral_Projeto_VideoVigilancia/Step_2-MatLab/c3d/output_32Segments/JumpRope/v_JumpRope_g07_c06_C.txt\n",
      "/home/jayne/Documentos/MESTRADO/PESQUISA/Rep_Geral_Projeto_VideoVigilancia/Step_2-MatLab/c3d/output_32Segments/JumpRope/v_JumpRope_g17_c02_C.txt\n",
      "/home/jayne/Documentos/MESTRADO/PESQUISA/Rep_Geral_Projeto_VideoVigilancia/Step_2-MatLab/c3d/output_32Segments/JumpRope/v_JumpRope_g11_c01_C.txt\n",
      "/home/jayne/Documentos/MESTRADO/PESQUISA/Rep_Geral_Projeto_VideoVigilancia/Step_2-MatLab/c3d/output_32Segments/JumpRope/v_JumpRope_g19_c02_C.txt\n",
      "/home/jayne/Documentos/MESTRADO/PESQUISA/Rep_Geral_Projeto_VideoVigilancia/Step_2-MatLab/c3d/output_32Segments/JumpRope/v_JumpRope_g03_c01_C.txt\n",
      "/home/jayne/Documentos/MESTRADO/PESQUISA/Rep_Geral_Projeto_VideoVigilancia/Step_2-MatLab/c3d/output_32Segments/JumpRope/v_JumpRope_g09_c03_C.txt\n",
      "/home/jayne/Documentos/MESTRADO/PESQUISA/Rep_Geral_Projeto_VideoVigilancia/Step_2-MatLab/c3d/output_32Segments/JumpRope/v_JumpRope_g22_c01_C.txt\n",
      "/home/jayne/Documentos/MESTRADO/PESQUISA/Rep_Geral_Projeto_VideoVigilancia/Step_2-MatLab/c3d/output_32Segments/JumpRope/v_JumpRope_g18_c02_C.txt\n",
      "/home/jayne/Documentos/MESTRADO/PESQUISA/Rep_Geral_Projeto_VideoVigilancia/Step_2-MatLab/c3d/output_32Segments/JumpRope/v_JumpRope_g23_c01_C.txt\n",
      "/home/jayne/Documentos/MESTRADO/PESQUISA/Rep_Geral_Projeto_VideoVigilancia/Step_2-MatLab/c3d/output_32Segments/JumpRope/v_JumpRope_g09_c04_C.txt\n",
      "/home/jayne/Documentos/MESTRADO/PESQUISA/Rep_Geral_Projeto_VideoVigilancia/Step_2-MatLab/c3d/output_32Segments/JumpRope/v_JumpRope_g23_c02_C.txt\n",
      "/home/jayne/Documentos/MESTRADO/PESQUISA/Rep_Geral_Projeto_VideoVigilancia/Step_2-MatLab/c3d/output_32Segments/JumpRope/v_JumpRope_g12_c01_C.txt\n",
      "/home/jayne/Documentos/MESTRADO/PESQUISA/Rep_Geral_Projeto_VideoVigilancia/Step_2-MatLab/c3d/output_32Segments/JumpRope/v_JumpRope_g25_c04_C.txt\n",
      "/home/jayne/Documentos/MESTRADO/PESQUISA/Rep_Geral_Projeto_VideoVigilancia/Step_2-MatLab/c3d/output_32Segments/JumpRope/v_JumpRope_g15_c05_C.txt\n",
      "/home/jayne/Documentos/MESTRADO/PESQUISA/Rep_Geral_Projeto_VideoVigilancia/Step_2-MatLab/c3d/output_32Segments/JumpRope/v_JumpRope_g09_c07_C.txt\n",
      "/home/jayne/Documentos/MESTRADO/PESQUISA/Rep_Geral_Projeto_VideoVigilancia/Step_2-MatLab/c3d/output_32Segments/JumpRope/v_JumpRope_g21_c06_C.txt\n",
      "/home/jayne/Documentos/MESTRADO/PESQUISA/Rep_Geral_Projeto_VideoVigilancia/Step_2-MatLab/c3d/output_32Segments/JumpRope/v_JumpRope_g02_c01_C.txt\n",
      "/home/jayne/Documentos/MESTRADO/PESQUISA/Rep_Geral_Projeto_VideoVigilancia/Step_2-MatLab/c3d/output_32Segments/JumpRope/v_JumpRope_g02_c07_C.txt\n",
      "/home/jayne/Documentos/MESTRADO/PESQUISA/Rep_Geral_Projeto_VideoVigilancia/Step_2-MatLab/c3d/output_32Segments/JumpRope/v_JumpRope_g11_c02_C.txt\n",
      "/home/jayne/Documentos/MESTRADO/PESQUISA/Rep_Geral_Projeto_VideoVigilancia/Step_2-MatLab/c3d/output_32Segments/JumpRope/v_JumpRope_g18_c06_C.txt\n",
      "/home/jayne/Documentos/MESTRADO/PESQUISA/Rep_Geral_Projeto_VideoVigilancia/Step_2-MatLab/c3d/output_32Segments/JumpRope/v_JumpRope_g01_c02_C.txt\n",
      "/home/jayne/Documentos/MESTRADO/PESQUISA/Rep_Geral_Projeto_VideoVigilancia/Step_2-MatLab/c3d/output_32Segments/JumpRope/v_JumpRope_g25_c05_C.txt\n",
      "/home/jayne/Documentos/MESTRADO/PESQUISA/Rep_Geral_Projeto_VideoVigilancia/Step_2-MatLab/c3d/output_32Segments/JumpRope/v_JumpRope_g09_c02_C.txt\n",
      "/home/jayne/Documentos/MESTRADO/PESQUISA/Rep_Geral_Projeto_VideoVigilancia/Step_2-MatLab/c3d/output_32Segments/JumpRope/v_JumpRope_g12_c03_C.txt\n",
      "/home/jayne/Documentos/MESTRADO/PESQUISA/Rep_Geral_Projeto_VideoVigilancia/Step_2-MatLab/c3d/output_32Segments/JumpRope/v_JumpRope_g04_c02_C.txt\n",
      "/home/jayne/Documentos/MESTRADO/PESQUISA/Rep_Geral_Projeto_VideoVigilancia/Step_2-MatLab/c3d/output_32Segments/JumpRope/v_JumpRope_g02_c03_C.txt\n",
      "/home/jayne/Documentos/MESTRADO/PESQUISA/Rep_Geral_Projeto_VideoVigilancia/Step_2-MatLab/c3d/output_32Segments/JumpRope/v_JumpRope_g05_c03_C.txt\n",
      "/home/jayne/Documentos/MESTRADO/PESQUISA/Rep_Geral_Projeto_VideoVigilancia/Step_2-MatLab/c3d/output_32Segments/JumpRope/v_JumpRope_g20_c07_C.txt\n",
      "/home/jayne/Documentos/MESTRADO/PESQUISA/Rep_Geral_Projeto_VideoVigilancia/Step_2-MatLab/c3d/output_32Segments/JumpRope/v_JumpRope_g23_c05_C.txt\n",
      "/home/jayne/Documentos/MESTRADO/PESQUISA/Rep_Geral_Projeto_VideoVigilancia/Step_2-MatLab/c3d/output_32Segments/JumpRope/v_JumpRope_g02_c05_C.txt\n",
      "/home/jayne/Documentos/MESTRADO/PESQUISA/Rep_Geral_Projeto_VideoVigilancia/Step_2-MatLab/c3d/output_32Segments/JumpRope/v_JumpRope_g04_c04_C.txt\n",
      "/home/jayne/Documentos/MESTRADO/PESQUISA/Rep_Geral_Projeto_VideoVigilancia/Step_2-MatLab/c3d/output_32Segments/JumpRope/v_JumpRope_g10_c03_C.txt\n",
      "/home/jayne/Documentos/MESTRADO/PESQUISA/Rep_Geral_Projeto_VideoVigilancia/Step_2-MatLab/c3d/output_32Segments/JumpRope/v_JumpRope_g17_c05_C.txt\n",
      "/home/jayne/Documentos/MESTRADO/PESQUISA/Rep_Geral_Projeto_VideoVigilancia/Step_2-MatLab/c3d/output_32Segments/JumpRope/v_JumpRope_g15_c06_C.txt\n",
      "/home/jayne/Documentos/MESTRADO/PESQUISA/Rep_Geral_Projeto_VideoVigilancia/Step_2-MatLab/c3d/output_32Segments/JumpRope/v_JumpRope_g16_c01_C.txt\n",
      "/home/jayne/Documentos/MESTRADO/PESQUISA/Rep_Geral_Projeto_VideoVigilancia/Step_2-MatLab/c3d/output_32Segments/JumpRope/v_JumpRope_g22_c03_C.txt\n",
      "/home/jayne/Documentos/MESTRADO/PESQUISA/Rep_Geral_Projeto_VideoVigilancia/Step_2-MatLab/c3d/output_32Segments/JumpRope/v_JumpRope_g05_c04_C.txt\n",
      "/home/jayne/Documentos/MESTRADO/PESQUISA/Rep_Geral_Projeto_VideoVigilancia/Step_2-MatLab/c3d/output_32Segments/JumpRope/v_JumpRope_g11_c04_C.txt\n",
      "/home/jayne/Documentos/MESTRADO/PESQUISA/Rep_Geral_Projeto_VideoVigilancia/Step_2-MatLab/c3d/output_32Segments/JumpRope/v_JumpRope_g18_c03_C.txt\n",
      "/home/jayne/Documentos/MESTRADO/PESQUISA/Rep_Geral_Projeto_VideoVigilancia/Step_2-MatLab/c3d/output_32Segments/JumpRope/v_JumpRope_g21_c03_C.txt\n"
     ]
    },
    {
     "name": "stdout",
     "output_type": "stream",
     "text": [
      "/home/jayne/Documentos/MESTRADO/PESQUISA/Rep_Geral_Projeto_VideoVigilancia/Step_2-MatLab/c3d/output_32Segments/JumpRope/v_JumpRope_g19_c01_C.txt\n",
      "/home/jayne/Documentos/MESTRADO/PESQUISA/Rep_Geral_Projeto_VideoVigilancia/Step_2-MatLab/c3d/output_32Segments/JumpRope/v_JumpRope_g13_c05_C.txt\n",
      "/home/jayne/Documentos/MESTRADO/PESQUISA/Rep_Geral_Projeto_VideoVigilancia/Step_2-MatLab/c3d/output_32Segments/JumpRope/v_JumpRope_g16_c05_C.txt\n",
      "/home/jayne/Documentos/MESTRADO/PESQUISA/Rep_Geral_Projeto_VideoVigilancia/Step_2-MatLab/c3d/output_32Segments/JumpRope/v_JumpRope_g17_c03_C.txt\n",
      "/home/jayne/Documentos/MESTRADO/PESQUISA/Rep_Geral_Projeto_VideoVigilancia/Step_2-MatLab/c3d/output_32Segments/JumpRope/v_JumpRope_g04_c07_C.txt\n",
      "/home/jayne/Documentos/MESTRADO/PESQUISA/Rep_Geral_Projeto_VideoVigilancia/Step_2-MatLab/c3d/output_32Segments/JumpRope/v_JumpRope_g13_c02_C.txt\n",
      "/home/jayne/Documentos/MESTRADO/PESQUISA/Rep_Geral_Projeto_VideoVigilancia/Step_2-MatLab/c3d/output_32Segments/JumpRope/v_JumpRope_g22_c04_C.txt\n",
      "/home/jayne/Documentos/MESTRADO/PESQUISA/Rep_Geral_Projeto_VideoVigilancia/Step_2-MatLab/c3d/output_32Segments/JumpRope/v_JumpRope_g06_c01_C.txt\n",
      "/home/jayne/Documentos/MESTRADO/PESQUISA/Rep_Geral_Projeto_VideoVigilancia/Step_2-MatLab/c3d/output_32Segments/JumpRope/v_JumpRope_g21_c01_C.txt\n",
      "/home/jayne/Documentos/MESTRADO/PESQUISA/Rep_Geral_Projeto_VideoVigilancia/Step_2-MatLab/c3d/output_32Segments/JumpRope/v_JumpRope_g15_c02_C.txt\n",
      "/home/jayne/Documentos/MESTRADO/PESQUISA/Rep_Geral_Projeto_VideoVigilancia/Step_2-MatLab/c3d/output_32Segments/JumpRope/v_JumpRope_g24_c04_C.txt\n",
      "/home/jayne/Documentos/MESTRADO/PESQUISA/Rep_Geral_Projeto_VideoVigilancia/Step_2-MatLab/c3d/output_32Segments/JumpRope/v_JumpRope_g16_c02_C.txt\n",
      "/home/jayne/Documentos/MESTRADO/PESQUISA/Rep_Geral_Projeto_VideoVigilancia/Step_2-MatLab/c3d/output_32Segments/JumpRope/v_JumpRope_g02_c02_C.txt\n",
      "/home/jayne/Documentos/MESTRADO/PESQUISA/Rep_Geral_Projeto_VideoVigilancia/Step_2-MatLab/c3d/output_32Segments/JumpRope/v_JumpRope_g11_c07_C.txt\n",
      "/home/jayne/Documentos/MESTRADO/PESQUISA/Rep_Geral_Projeto_VideoVigilancia/Step_2-MatLab/c3d/output_32Segments/JumpRope/v_JumpRope_g18_c04_C.txt\n",
      "/home/jayne/Documentos/MESTRADO/PESQUISA/Rep_Geral_Projeto_VideoVigilancia/Step_2-MatLab/c3d/output_32Segments/SalsaSpin/\n",
      "/home/jayne/Documentos/MESTRADO/PESQUISA/Rep_Geral_Projeto_VideoVigilancia/Step_2-MatLab/c3d/output_32Segments/SalsaSpin/v_SalsaSpin_g24_c04_C.txt\n",
      "/home/jayne/Documentos/MESTRADO/PESQUISA/Rep_Geral_Projeto_VideoVigilancia/Step_2-MatLab/c3d/output_32Segments/SalsaSpin/v_SalsaSpin_g04_c06_C.txt\n",
      "/home/jayne/Documentos/MESTRADO/PESQUISA/Rep_Geral_Projeto_VideoVigilancia/Step_2-MatLab/c3d/output_32Segments/SalsaSpin/v_SalsaSpin_g01_c06_C.txt\n",
      "/home/jayne/Documentos/MESTRADO/PESQUISA/Rep_Geral_Projeto_VideoVigilancia/Step_2-MatLab/c3d/output_32Segments/SalsaSpin/v_SalsaSpin_g07_c02_C.txt\n",
      "/home/jayne/Documentos/MESTRADO/PESQUISA/Rep_Geral_Projeto_VideoVigilancia/Step_2-MatLab/c3d/output_32Segments/SalsaSpin/v_SalsaSpin_g05_c02_C.txt\n",
      "/home/jayne/Documentos/MESTRADO/PESQUISA/Rep_Geral_Projeto_VideoVigilancia/Step_2-MatLab/c3d/output_32Segments/SalsaSpin/v_SalsaSpin_g16_c03_C.txt\n",
      "/home/jayne/Documentos/MESTRADO/PESQUISA/Rep_Geral_Projeto_VideoVigilancia/Step_2-MatLab/c3d/output_32Segments/SalsaSpin/v_SalsaSpin_g15_c01_C.txt\n",
      "/home/jayne/Documentos/MESTRADO/PESQUISA/Rep_Geral_Projeto_VideoVigilancia/Step_2-MatLab/c3d/output_32Segments/SalsaSpin/v_SalsaSpin_g23_c03_C.txt\n",
      "/home/jayne/Documentos/MESTRADO/PESQUISA/Rep_Geral_Projeto_VideoVigilancia/Step_2-MatLab/c3d/output_32Segments/SalsaSpin/v_SalsaSpin_g10_c03_C.txt\n",
      "/home/jayne/Documentos/MESTRADO/PESQUISA/Rep_Geral_Projeto_VideoVigilancia/Step_2-MatLab/c3d/output_32Segments/SalsaSpin/v_SalsaSpin_g04_c05_C.txt\n",
      "/home/jayne/Documentos/MESTRADO/PESQUISA/Rep_Geral_Projeto_VideoVigilancia/Step_2-MatLab/c3d/output_32Segments/SalsaSpin/v_SalsaSpin_g25_c04_C.txt\n",
      "/home/jayne/Documentos/MESTRADO/PESQUISA/Rep_Geral_Projeto_VideoVigilancia/Step_2-MatLab/c3d/output_32Segments/SalsaSpin/v_SalsaSpin_g19_c02_C.txt\n",
      "/home/jayne/Documentos/MESTRADO/PESQUISA/Rep_Geral_Projeto_VideoVigilancia/Step_2-MatLab/c3d/output_32Segments/SalsaSpin/v_SalsaSpin_g11_c01_C.txt\n",
      "/home/jayne/Documentos/MESTRADO/PESQUISA/Rep_Geral_Projeto_VideoVigilancia/Step_2-MatLab/c3d/output_32Segments/SalsaSpin/v_SalsaSpin_g10_c04_C.txt\n",
      "/home/jayne/Documentos/MESTRADO/PESQUISA/Rep_Geral_Projeto_VideoVigilancia/Step_2-MatLab/c3d/output_32Segments/SalsaSpin/v_SalsaSpin_g01_c01_C.txt\n",
      "/home/jayne/Documentos/MESTRADO/PESQUISA/Rep_Geral_Projeto_VideoVigilancia/Step_2-MatLab/c3d/output_32Segments/SalsaSpin/v_SalsaSpin_g25_c01_C.txt\n",
      "/home/jayne/Documentos/MESTRADO/PESQUISA/Rep_Geral_Projeto_VideoVigilancia/Step_2-MatLab/c3d/output_32Segments/SalsaSpin/v_SalsaSpin_g14_c05_C.txt\n",
      "/home/jayne/Documentos/MESTRADO/PESQUISA/Rep_Geral_Projeto_VideoVigilancia/Step_2-MatLab/c3d/output_32Segments/SalsaSpin/v_SalsaSpin_g16_c04_C.txt\n",
      "/home/jayne/Documentos/MESTRADO/PESQUISA/Rep_Geral_Projeto_VideoVigilancia/Step_2-MatLab/c3d/output_32Segments/SalsaSpin/v_SalsaSpin_g17_c01_C.txt\n",
      "/home/jayne/Documentos/MESTRADO/PESQUISA/Rep_Geral_Projeto_VideoVigilancia/Step_2-MatLab/c3d/output_32Segments/SalsaSpin/v_SalsaSpin_g20_c05_C.txt\n",
      "/home/jayne/Documentos/MESTRADO/PESQUISA/Rep_Geral_Projeto_VideoVigilancia/Step_2-MatLab/c3d/output_32Segments/SalsaSpin/v_SalsaSpin_g08_c05_C.txt\n",
      "/home/jayne/Documentos/MESTRADO/PESQUISA/Rep_Geral_Projeto_VideoVigilancia/Step_2-MatLab/c3d/output_32Segments/SalsaSpin/v_SalsaSpin_g21_c04_C.txt\n",
      "/home/jayne/Documentos/MESTRADO/PESQUISA/Rep_Geral_Projeto_VideoVigilancia/Step_2-MatLab/c3d/output_32Segments/SalsaSpin/v_SalsaSpin_g23_c01_C.txt\n",
      "/home/jayne/Documentos/MESTRADO/PESQUISA/Rep_Geral_Projeto_VideoVigilancia/Step_2-MatLab/c3d/output_32Segments/SalsaSpin/v_SalsaSpin_g16_c01_C.txt\n",
      "/home/jayne/Documentos/MESTRADO/PESQUISA/Rep_Geral_Projeto_VideoVigilancia/Step_2-MatLab/c3d/output_32Segments/SalsaSpin/v_SalsaSpin_g03_c01_C.txt\n",
      "/home/jayne/Documentos/MESTRADO/PESQUISA/Rep_Geral_Projeto_VideoVigilancia/Step_2-MatLab/c3d/output_32Segments/SalsaSpin/v_SalsaSpin_g10_c05_C.txt\n",
      "/home/jayne/Documentos/MESTRADO/PESQUISA/Rep_Geral_Projeto_VideoVigilancia/Step_2-MatLab/c3d/output_32Segments/SalsaSpin/v_SalsaSpin_g06_c04_C.txt\n",
      "/home/jayne/Documentos/MESTRADO/PESQUISA/Rep_Geral_Projeto_VideoVigilancia/Step_2-MatLab/c3d/output_32Segments/SalsaSpin/v_SalsaSpin_g19_c03_C.txt\n",
      "/home/jayne/Documentos/MESTRADO/PESQUISA/Rep_Geral_Projeto_VideoVigilancia/Step_2-MatLab/c3d/output_32Segments/SalsaSpin/v_SalsaSpin_g02_c01_C.txt\n",
      "/home/jayne/Documentos/MESTRADO/PESQUISA/Rep_Geral_Projeto_VideoVigilancia/Step_2-MatLab/c3d/output_32Segments/SalsaSpin/v_SalsaSpin_g11_c06_C.txt\n",
      "/home/jayne/Documentos/MESTRADO/PESQUISA/Rep_Geral_Projeto_VideoVigilancia/Step_2-MatLab/c3d/output_32Segments/SalsaSpin/v_SalsaSpin_g23_c04_C.txt\n",
      "/home/jayne/Documentos/MESTRADO/PESQUISA/Rep_Geral_Projeto_VideoVigilancia/Step_2-MatLab/c3d/output_32Segments/SalsaSpin/v_SalsaSpin_g06_c02_C.txt\n",
      "/home/jayne/Documentos/MESTRADO/PESQUISA/Rep_Geral_Projeto_VideoVigilancia/Step_2-MatLab/c3d/output_32Segments/SalsaSpin/v_SalsaSpin_g07_c03_C.txt\n",
      "/home/jayne/Documentos/MESTRADO/PESQUISA/Rep_Geral_Projeto_VideoVigilancia/Step_2-MatLab/c3d/output_32Segments/SalsaSpin/v_SalsaSpin_g01_c03_C.txt\n",
      "/home/jayne/Documentos/MESTRADO/PESQUISA/Rep_Geral_Projeto_VideoVigilancia/Step_2-MatLab/c3d/output_32Segments/SalsaSpin/v_SalsaSpin_g09_c03_C.txt\n",
      "/home/jayne/Documentos/MESTRADO/PESQUISA/Rep_Geral_Projeto_VideoVigilancia/Step_2-MatLab/c3d/output_32Segments/SalsaSpin/v_SalsaSpin_g04_c01_C.txt\n",
      "/home/jayne/Documentos/MESTRADO/PESQUISA/Rep_Geral_Projeto_VideoVigilancia/Step_2-MatLab/c3d/output_32Segments/SalsaSpin/v_SalsaSpin_g24_c05_C.txt\n",
      "/home/jayne/Documentos/MESTRADO/PESQUISA/Rep_Geral_Projeto_VideoVigilancia/Step_2-MatLab/c3d/output_32Segments/SalsaSpin/v_SalsaSpin_g08_c04_C.txt\n",
      "/home/jayne/Documentos/MESTRADO/PESQUISA/Rep_Geral_Projeto_VideoVigilancia/Step_2-MatLab/c3d/output_32Segments/SalsaSpin/v_SalsaSpin_g12_c03_C.txt\n",
      "/home/jayne/Documentos/MESTRADO/PESQUISA/Rep_Geral_Projeto_VideoVigilancia/Step_2-MatLab/c3d/output_32Segments/SalsaSpin/v_SalsaSpin_g09_c06_C.txt\n",
      "/home/jayne/Documentos/MESTRADO/PESQUISA/Rep_Geral_Projeto_VideoVigilancia/Step_2-MatLab/c3d/output_32Segments/SalsaSpin/v_SalsaSpin_g02_c06_C.txt\n"
     ]
    },
    {
     "name": "stdout",
     "output_type": "stream",
     "text": [
      "/home/jayne/Documentos/MESTRADO/PESQUISA/Rep_Geral_Projeto_VideoVigilancia/Step_2-MatLab/c3d/output_32Segments/SalsaSpin/v_SalsaSpin_g03_c06_C.txt\n",
      "/home/jayne/Documentos/MESTRADO/PESQUISA/Rep_Geral_Projeto_VideoVigilancia/Step_2-MatLab/c3d/output_32Segments/SalsaSpin/v_SalsaSpin_g14_c01_C.txt\n",
      "/home/jayne/Documentos/MESTRADO/PESQUISA/Rep_Geral_Projeto_VideoVigilancia/Step_2-MatLab/c3d/output_32Segments/SalsaSpin/v_SalsaSpin_g11_c03_C.txt\n",
      "/home/jayne/Documentos/MESTRADO/PESQUISA/Rep_Geral_Projeto_VideoVigilancia/Step_2-MatLab/c3d/output_32Segments/SalsaSpin/v_SalsaSpin_g06_c05_C.txt\n",
      "/home/jayne/Documentos/MESTRADO/PESQUISA/Rep_Geral_Projeto_VideoVigilancia/Step_2-MatLab/c3d/output_32Segments/SalsaSpin/v_SalsaSpin_g01_c07_C.txt\n",
      "/home/jayne/Documentos/MESTRADO/PESQUISA/Rep_Geral_Projeto_VideoVigilancia/Step_2-MatLab/c3d/output_32Segments/SalsaSpin/v_SalsaSpin_g12_c06_C.txt\n",
      "/home/jayne/Documentos/MESTRADO/PESQUISA/Rep_Geral_Projeto_VideoVigilancia/Step_2-MatLab/c3d/output_32Segments/SalsaSpin/v_SalsaSpin_g06_c03_C.txt\n",
      "/home/jayne/Documentos/MESTRADO/PESQUISA/Rep_Geral_Projeto_VideoVigilancia/Step_2-MatLab/c3d/output_32Segments/SalsaSpin/v_SalsaSpin_g21_c05_C.txt\n",
      "/home/jayne/Documentos/MESTRADO/PESQUISA/Rep_Geral_Projeto_VideoVigilancia/Step_2-MatLab/c3d/output_32Segments/SalsaSpin/v_SalsaSpin_g17_c02_C.txt\n",
      "/home/jayne/Documentos/MESTRADO/PESQUISA/Rep_Geral_Projeto_VideoVigilancia/Step_2-MatLab/c3d/output_32Segments/SalsaSpin/v_SalsaSpin_g09_c05_C.txt\n",
      "/home/jayne/Documentos/MESTRADO/PESQUISA/Rep_Geral_Projeto_VideoVigilancia/Step_2-MatLab/c3d/output_32Segments/SalsaSpin/v_SalsaSpin_g18_c04_C.txt\n",
      "/home/jayne/Documentos/MESTRADO/PESQUISA/Rep_Geral_Projeto_VideoVigilancia/Step_2-MatLab/c3d/output_32Segments/SalsaSpin/v_SalsaSpin_g11_c05_C.txt\n",
      "/home/jayne/Documentos/MESTRADO/PESQUISA/Rep_Geral_Projeto_VideoVigilancia/Step_2-MatLab/c3d/output_32Segments/SalsaSpin/v_SalsaSpin_g20_c03_C.txt\n",
      "/home/jayne/Documentos/MESTRADO/PESQUISA/Rep_Geral_Projeto_VideoVigilancia/Step_2-MatLab/c3d/output_32Segments/SalsaSpin/v_SalsaSpin_g01_c05_C.txt\n",
      "/home/jayne/Documentos/MESTRADO/PESQUISA/Rep_Geral_Projeto_VideoVigilancia/Step_2-MatLab/c3d/output_32Segments/SalsaSpin/v_SalsaSpin_g10_c02_C.txt\n",
      "/home/jayne/Documentos/MESTRADO/PESQUISA/Rep_Geral_Projeto_VideoVigilancia/Step_2-MatLab/c3d/output_32Segments/SalsaSpin/v_SalsaSpin_g08_c02_C.txt\n",
      "/home/jayne/Documentos/MESTRADO/PESQUISA/Rep_Geral_Projeto_VideoVigilancia/Step_2-MatLab/c3d/output_32Segments/SalsaSpin/v_SalsaSpin_g24_c02_C.txt\n",
      "/home/jayne/Documentos/MESTRADO/PESQUISA/Rep_Geral_Projeto_VideoVigilancia/Step_2-MatLab/c3d/output_32Segments/SalsaSpin/v_SalsaSpin_g06_c01_C.txt\n",
      "/home/jayne/Documentos/MESTRADO/PESQUISA/Rep_Geral_Projeto_VideoVigilancia/Step_2-MatLab/c3d/output_32Segments/SalsaSpin/v_SalsaSpin_g18_c01_C.txt\n",
      "/home/jayne/Documentos/MESTRADO/PESQUISA/Rep_Geral_Projeto_VideoVigilancia/Step_2-MatLab/c3d/output_32Segments/SalsaSpin/v_SalsaSpin_g20_c01_C.txt\n",
      "/home/jayne/Documentos/MESTRADO/PESQUISA/Rep_Geral_Projeto_VideoVigilancia/Step_2-MatLab/c3d/output_32Segments/SalsaSpin/v_SalsaSpin_g09_c01_C.txt\n",
      "/home/jayne/Documentos/MESTRADO/PESQUISA/Rep_Geral_Projeto_VideoVigilancia/Step_2-MatLab/c3d/output_32Segments/SalsaSpin/v_SalsaSpin_g02_c05_C.txt\n",
      "/home/jayne/Documentos/MESTRADO/PESQUISA/Rep_Geral_Projeto_VideoVigilancia/Step_2-MatLab/c3d/output_32Segments/SalsaSpin/v_SalsaSpin_g05_c06_C.txt\n",
      "/home/jayne/Documentos/MESTRADO/PESQUISA/Rep_Geral_Projeto_VideoVigilancia/Step_2-MatLab/c3d/output_32Segments/SalsaSpin/v_SalsaSpin_g22_c01_C.txt\n",
      "/home/jayne/Documentos/MESTRADO/PESQUISA/Rep_Geral_Projeto_VideoVigilancia/Step_2-MatLab/c3d/output_32Segments/SalsaSpin/v_SalsaSpin_g12_c02_C.txt\n",
      "/home/jayne/Documentos/MESTRADO/PESQUISA/Rep_Geral_Projeto_VideoVigilancia/Step_2-MatLab/c3d/output_32Segments/SalsaSpin/v_SalsaSpin_g15_c03_C.txt\n",
      "/home/jayne/Documentos/MESTRADO/PESQUISA/Rep_Geral_Projeto_VideoVigilancia/Step_2-MatLab/c3d/output_32Segments/SalsaSpin/v_SalsaSpin_g10_c01_C.txt\n",
      "/home/jayne/Documentos/MESTRADO/PESQUISA/Rep_Geral_Projeto_VideoVigilancia/Step_2-MatLab/c3d/output_32Segments/SalsaSpin/v_SalsaSpin_g07_c06_C.txt\n",
      "/home/jayne/Documentos/MESTRADO/PESQUISA/Rep_Geral_Projeto_VideoVigilancia/Step_2-MatLab/c3d/output_32Segments/SalsaSpin/v_SalsaSpin_g21_c03_C.txt\n",
      "/home/jayne/Documentos/MESTRADO/PESQUISA/Rep_Geral_Projeto_VideoVigilancia/Step_2-MatLab/c3d/output_32Segments/SalsaSpin/v_SalsaSpin_g16_c02_C.txt\n",
      "/home/jayne/Documentos/MESTRADO/PESQUISA/Rep_Geral_Projeto_VideoVigilancia/Step_2-MatLab/c3d/output_32Segments/SalsaSpin/v_SalsaSpin_g10_c06_C.txt\n",
      "/home/jayne/Documentos/MESTRADO/PESQUISA/Rep_Geral_Projeto_VideoVigilancia/Step_2-MatLab/c3d/output_32Segments/SalsaSpin/v_SalsaSpin_g13_c01_C.txt\n",
      "/home/jayne/Documentos/MESTRADO/PESQUISA/Rep_Geral_Projeto_VideoVigilancia/Step_2-MatLab/c3d/output_32Segments/SalsaSpin/v_SalsaSpin_g14_c06_C.txt\n",
      "/home/jayne/Documentos/MESTRADO/PESQUISA/Rep_Geral_Projeto_VideoVigilancia/Step_2-MatLab/c3d/output_32Segments/SalsaSpin/v_SalsaSpin_g05_c01_C.txt\n",
      "/home/jayne/Documentos/MESTRADO/PESQUISA/Rep_Geral_Projeto_VideoVigilancia/Step_2-MatLab/c3d/output_32Segments/SalsaSpin/v_SalsaSpin_g18_c03_C.txt\n",
      "/home/jayne/Documentos/MESTRADO/PESQUISA/Rep_Geral_Projeto_VideoVigilancia/Step_2-MatLab/c3d/output_32Segments/SalsaSpin/v_SalsaSpin_g24_c03_C.txt\n",
      "/home/jayne/Documentos/MESTRADO/PESQUISA/Rep_Geral_Projeto_VideoVigilancia/Step_2-MatLab/c3d/output_32Segments/SalsaSpin/v_SalsaSpin_g05_c04_C.txt\n",
      "/home/jayne/Documentos/MESTRADO/PESQUISA/Rep_Geral_Projeto_VideoVigilancia/Step_2-MatLab/c3d/output_32Segments/SalsaSpin/v_SalsaSpin_g12_c04_C.txt\n",
      "/home/jayne/Documentos/MESTRADO/PESQUISA/Rep_Geral_Projeto_VideoVigilancia/Step_2-MatLab/c3d/output_32Segments/SalsaSpin/v_SalsaSpin_g02_c07_C.txt\n",
      "/home/jayne/Documentos/MESTRADO/PESQUISA/Rep_Geral_Projeto_VideoVigilancia/Step_2-MatLab/c3d/output_32Segments/SalsaSpin/v_SalsaSpin_g22_c02_C.txt\n",
      "/home/jayne/Documentos/MESTRADO/PESQUISA/Rep_Geral_Projeto_VideoVigilancia/Step_2-MatLab/c3d/output_32Segments/SalsaSpin/v_SalsaSpin_g21_c02_C.txt\n",
      "/home/jayne/Documentos/MESTRADO/PESQUISA/Rep_Geral_Projeto_VideoVigilancia/Step_2-MatLab/c3d/output_32Segments/SalsaSpin/v_SalsaSpin_g21_c01_C.txt\n",
      "/home/jayne/Documentos/MESTRADO/PESQUISA/Rep_Geral_Projeto_VideoVigilancia/Step_2-MatLab/c3d/output_32Segments/SalsaSpin/v_SalsaSpin_g22_c03_C.txt\n",
      "/home/jayne/Documentos/MESTRADO/PESQUISA/Rep_Geral_Projeto_VideoVigilancia/Step_2-MatLab/c3d/output_32Segments/SalsaSpin/v_SalsaSpin_g08_c03_C.txt\n",
      "/home/jayne/Documentos/MESTRADO/PESQUISA/Rep_Geral_Projeto_VideoVigilancia/Step_2-MatLab/c3d/output_32Segments/SalsaSpin/v_SalsaSpin_g23_c02_C.txt\n",
      "/home/jayne/Documentos/MESTRADO/PESQUISA/Rep_Geral_Projeto_VideoVigilancia/Step_2-MatLab/c3d/output_32Segments/SalsaSpin/v_SalsaSpin_g01_c02_C.txt\n",
      "/home/jayne/Documentos/MESTRADO/PESQUISA/Rep_Geral_Projeto_VideoVigilancia/Step_2-MatLab/c3d/output_32Segments/SalsaSpin/v_SalsaSpin_g15_c05_C.txt\n",
      "/home/jayne/Documentos/MESTRADO/PESQUISA/Rep_Geral_Projeto_VideoVigilancia/Step_2-MatLab/c3d/output_32Segments/SalsaSpin/v_SalsaSpin_g01_c04_C.txt\n",
      "/home/jayne/Documentos/MESTRADO/PESQUISA/Rep_Geral_Projeto_VideoVigilancia/Step_2-MatLab/c3d/output_32Segments/SalsaSpin/v_SalsaSpin_g14_c03_C.txt\n",
      "/home/jayne/Documentos/MESTRADO/PESQUISA/Rep_Geral_Projeto_VideoVigilancia/Step_2-MatLab/c3d/output_32Segments/SalsaSpin/v_SalsaSpin_g14_c04_C.txt\n",
      "/home/jayne/Documentos/MESTRADO/PESQUISA/Rep_Geral_Projeto_VideoVigilancia/Step_2-MatLab/c3d/output_32Segments/SalsaSpin/v_SalsaSpin_g02_c03_C.txt\n",
      "/home/jayne/Documentos/MESTRADO/PESQUISA/Rep_Geral_Projeto_VideoVigilancia/Step_2-MatLab/c3d/output_32Segments/SalsaSpin/v_SalsaSpin_g19_c01_C.txt\n",
      "/home/jayne/Documentos/MESTRADO/PESQUISA/Rep_Geral_Projeto_VideoVigilancia/Step_2-MatLab/c3d/output_32Segments/SalsaSpin/v_SalsaSpin_g24_c01_C.txt\n",
      "/home/jayne/Documentos/MESTRADO/PESQUISA/Rep_Geral_Projeto_VideoVigilancia/Step_2-MatLab/c3d/output_32Segments/SalsaSpin/v_SalsaSpin_g25_c02_C.txt\n",
      "/home/jayne/Documentos/MESTRADO/PESQUISA/Rep_Geral_Projeto_VideoVigilancia/Step_2-MatLab/c3d/output_32Segments/SalsaSpin/v_SalsaSpin_g07_c05_C.txt\n",
      "/home/jayne/Documentos/MESTRADO/PESQUISA/Rep_Geral_Projeto_VideoVigilancia/Step_2-MatLab/c3d/output_32Segments/SalsaSpin/v_SalsaSpin_g12_c01_C.txt\n",
      "/home/jayne/Documentos/MESTRADO/PESQUISA/Rep_Geral_Projeto_VideoVigilancia/Step_2-MatLab/c3d/output_32Segments/SalsaSpin/v_SalsaSpin_g07_c01_C.txt\n"
     ]
    },
    {
     "name": "stdout",
     "output_type": "stream",
     "text": [
      "/home/jayne/Documentos/MESTRADO/PESQUISA/Rep_Geral_Projeto_VideoVigilancia/Step_2-MatLab/c3d/output_32Segments/SalsaSpin/v_SalsaSpin_g20_c02_C.txt\n",
      "/home/jayne/Documentos/MESTRADO/PESQUISA/Rep_Geral_Projeto_VideoVigilancia/Step_2-MatLab/c3d/output_32Segments/SalsaSpin/v_SalsaSpin_g17_c04_C.txt\n",
      "/home/jayne/Documentos/MESTRADO/PESQUISA/Rep_Geral_Projeto_VideoVigilancia/Step_2-MatLab/c3d/output_32Segments/SalsaSpin/v_SalsaSpin_g19_c04_C.txt\n",
      "/home/jayne/Documentos/MESTRADO/PESQUISA/Rep_Geral_Projeto_VideoVigilancia/Step_2-MatLab/c3d/output_32Segments/SalsaSpin/v_SalsaSpin_g20_c04_C.txt\n",
      "/home/jayne/Documentos/MESTRADO/PESQUISA/Rep_Geral_Projeto_VideoVigilancia/Step_2-MatLab/c3d/output_32Segments/SalsaSpin/v_SalsaSpin_g13_c04_C.txt\n",
      "/home/jayne/Documentos/MESTRADO/PESQUISA/Rep_Geral_Projeto_VideoVigilancia/Step_2-MatLab/c3d/output_32Segments/SalsaSpin/v_SalsaSpin_g03_c03_C.txt\n",
      "/home/jayne/Documentos/MESTRADO/PESQUISA/Rep_Geral_Projeto_VideoVigilancia/Step_2-MatLab/c3d/output_32Segments/SalsaSpin/v_SalsaSpin_g15_c02_C.txt\n",
      "/home/jayne/Documentos/MESTRADO/PESQUISA/Rep_Geral_Projeto_VideoVigilancia/Step_2-MatLab/c3d/output_32Segments/SalsaSpin/v_SalsaSpin_g11_c04_C.txt\n",
      "/home/jayne/Documentos/MESTRADO/PESQUISA/Rep_Geral_Projeto_VideoVigilancia/Step_2-MatLab/c3d/output_32Segments/SalsaSpin/v_SalsaSpin_g22_c05_C.txt\n",
      "/home/jayne/Documentos/MESTRADO/PESQUISA/Rep_Geral_Projeto_VideoVigilancia/Step_2-MatLab/c3d/output_32Segments/SalsaSpin/v_SalsaSpin_g03_c05_C.txt\n",
      "/home/jayne/Documentos/MESTRADO/PESQUISA/Rep_Geral_Projeto_VideoVigilancia/Step_2-MatLab/c3d/output_32Segments/SalsaSpin/v_SalsaSpin_g09_c02_C.txt\n",
      "/home/jayne/Documentos/MESTRADO/PESQUISA/Rep_Geral_Projeto_VideoVigilancia/Step_2-MatLab/c3d/output_32Segments/SalsaSpin/v_SalsaSpin_g12_c05_C.txt\n",
      "/home/jayne/Documentos/MESTRADO/PESQUISA/Rep_Geral_Projeto_VideoVigilancia/Step_2-MatLab/c3d/output_32Segments/SalsaSpin/v_SalsaSpin_g15_c06_C.txt\n",
      "/home/jayne/Documentos/MESTRADO/PESQUISA/Rep_Geral_Projeto_VideoVigilancia/Step_2-MatLab/c3d/output_32Segments/SalsaSpin/v_SalsaSpin_g03_c02_C.txt\n",
      "/home/jayne/Documentos/MESTRADO/PESQUISA/Rep_Geral_Projeto_VideoVigilancia/Step_2-MatLab/c3d/output_32Segments/SalsaSpin/v_SalsaSpin_g04_c03_C.txt\n",
      "/home/jayne/Documentos/MESTRADO/PESQUISA/Rep_Geral_Projeto_VideoVigilancia/Step_2-MatLab/c3d/output_32Segments/SalsaSpin/v_SalsaSpin_g25_c03_C.txt\n",
      "/home/jayne/Documentos/MESTRADO/PESQUISA/Rep_Geral_Projeto_VideoVigilancia/Step_2-MatLab/c3d/output_32Segments/SalsaSpin/v_SalsaSpin_g22_c04_C.txt\n",
      "/home/jayne/Documentos/MESTRADO/PESQUISA/Rep_Geral_Projeto_VideoVigilancia/Step_2-MatLab/c3d/output_32Segments/SalsaSpin/v_SalsaSpin_g16_c05_C.txt\n",
      "/home/jayne/Documentos/MESTRADO/PESQUISA/Rep_Geral_Projeto_VideoVigilancia/Step_2-MatLab/c3d/output_32Segments/SalsaSpin/v_SalsaSpin_g08_c01_C.txt\n",
      "/home/jayne/Documentos/MESTRADO/PESQUISA/Rep_Geral_Projeto_VideoVigilancia/Step_2-MatLab/c3d/output_32Segments/SalsaSpin/v_SalsaSpin_g03_c04_C.txt\n",
      "/home/jayne/Documentos/MESTRADO/PESQUISA/Rep_Geral_Projeto_VideoVigilancia/Step_2-MatLab/c3d/output_32Segments/SalsaSpin/v_SalsaSpin_g07_c04_C.txt\n",
      "/home/jayne/Documentos/MESTRADO/PESQUISA/Rep_Geral_Projeto_VideoVigilancia/Step_2-MatLab/c3d/output_32Segments/SalsaSpin/v_SalsaSpin_g11_c02_C.txt\n",
      "/home/jayne/Documentos/MESTRADO/PESQUISA/Rep_Geral_Projeto_VideoVigilancia/Step_2-MatLab/c3d/output_32Segments/SalsaSpin/v_SalsaSpin_g02_c04_C.txt\n",
      "/home/jayne/Documentos/MESTRADO/PESQUISA/Rep_Geral_Projeto_VideoVigilancia/Step_2-MatLab/c3d/output_32Segments/SalsaSpin/v_SalsaSpin_g17_c03_C.txt\n",
      "/home/jayne/Documentos/MESTRADO/PESQUISA/Rep_Geral_Projeto_VideoVigilancia/Step_2-MatLab/c3d/output_32Segments/SalsaSpin/v_SalsaSpin_g04_c04_C.txt\n",
      "/home/jayne/Documentos/MESTRADO/PESQUISA/Rep_Geral_Projeto_VideoVigilancia/Step_2-MatLab/c3d/output_32Segments/SalsaSpin/v_SalsaSpin_g09_c04_C.txt\n",
      "/home/jayne/Documentos/MESTRADO/PESQUISA/Rep_Geral_Projeto_VideoVigilancia/Step_2-MatLab/c3d/output_32Segments/SalsaSpin/v_SalsaSpin_g15_c04_C.txt\n",
      "/home/jayne/Documentos/MESTRADO/PESQUISA/Rep_Geral_Projeto_VideoVigilancia/Step_2-MatLab/c3d/output_32Segments/SalsaSpin/v_SalsaSpin_g05_c03_C.txt\n",
      "/home/jayne/Documentos/MESTRADO/PESQUISA/Rep_Geral_Projeto_VideoVigilancia/Step_2-MatLab/c3d/output_32Segments/SalsaSpin/v_SalsaSpin_g18_c02_C.txt\n",
      "/home/jayne/Documentos/MESTRADO/PESQUISA/Rep_Geral_Projeto_VideoVigilancia/Step_2-MatLab/c3d/output_32Segments/SalsaSpin/v_SalsaSpin_g14_c02_C.txt\n",
      "/home/jayne/Documentos/MESTRADO/PESQUISA/Rep_Geral_Projeto_VideoVigilancia/Step_2-MatLab/c3d/output_32Segments/SalsaSpin/v_SalsaSpin_g05_c05_C.txt\n",
      "/home/jayne/Documentos/MESTRADO/PESQUISA/Rep_Geral_Projeto_VideoVigilancia/Step_2-MatLab/c3d/output_32Segments/SalsaSpin/v_SalsaSpin_g13_c02_C.txt\n",
      "/home/jayne/Documentos/MESTRADO/PESQUISA/Rep_Geral_Projeto_VideoVigilancia/Step_2-MatLab/c3d/output_32Segments/SalsaSpin/v_SalsaSpin_g13_c03_C.txt\n",
      "/home/jayne/Documentos/MESTRADO/PESQUISA/Rep_Geral_Projeto_VideoVigilancia/Step_2-MatLab/c3d/output_32Segments/SalsaSpin/v_SalsaSpin_g04_c02_C.txt\n",
      "/home/jayne/Documentos/MESTRADO/PESQUISA/Rep_Geral_Projeto_VideoVigilancia/Step_2-MatLab/c3d/output_32Segments/SalsaSpin/v_SalsaSpin_g02_c02_C.txt\n"
     ]
    }
   ],
   "source": [
    "import os, sys, glob, csv\n",
    "import re\n",
    "import time\n",
    "\n",
    "DIRECTORY_ROOT = '/home/jayne/Documentos/MESTRADO/PESQUISA/Rep_Geral_Projeto_VideoVigilancia/'\n",
    "DIRECTORY_FEATURES_C3D = DIRECTORY_ROOT+'Step_2-MatLab/c3d/output_32Segments/'\n",
    "DIRECTORY_FEATURES_LAYER = DIRECTORY_ROOT+'Step_3-Extracao_Ativacoes_do_Modelo/FeaturesExtractedLayerNetwork/'\n",
    "\n",
    "#f = open(DIRECTORY_FEATURES_LAYER+\"/\"+\"modelandotudo.csv\", \"w+\")\n",
    "csvfile = open(DIRECTORY_FEATURES_LAYER+'LayerFeatureExtractWithNovelty_test.csv', 'w+') \n",
    "\n",
    "def printvalues(data, video_name1, class_name1):\n",
    "    video_name = video_name1\n",
    "    class_name = class_name1\n",
    "    if isinstance(data, np.ndarray):\n",
    "        #with open(DIRECTORY_FEATURES_LAYER+'layer_feature_oficial_all.csv', 'w+') as csvfile:\n",
    "        f = csv.writer(csvfile, delimiter=',', quotechar='|', quoting=csv.QUOTE_MINIMAL)\n",
    "        f.writerow(['video_name', 'class_name','x', 'y', 'value'])\n",
    "        #f.write(\"video_name;video_class;x;y;value\\r\\n\")\n",
    "        for (x,y), value in np.ndenumerate(data):\n",
    "            if isinstance(value, np.ndarray):\n",
    "                #f.write(\"NDArray;NDArray;NDArray\\r\\n\")\n",
    "                printvalues(value)\n",
    "            else:\n",
    "                f.writerow([video_name, class_name,x, y, value])\n",
    "                #f.writerow(['{0}','{1}','{2}','{3}','{4}'].format(str(video_name), str(class_name), str(x), str(y), str(value)))\n",
    "\n",
    "               # f.write(\"{0};{1};{2};{3};{4}\\r\\n\".format(str(video_name), str(class_name), str(x), str(y), str(value)))\n",
    "    else:\n",
    "        return 0\n",
    "\n",
    "    \n",
    "def save_features_layer(path, video_name, class_name):\n",
    "    FeaturePath=path\n",
    "    inputs = load_dataset_One_Video_Features(FeaturePath)\n",
    "    OutFunc = keras.backend.function([model2.input], [model2.layers[0].output])\n",
    "    out_val = OutFunc([inputs])[0]\n",
    "    #print(out_val)\n",
    "    \n",
    "    printvalues(out_val, video_name, class_name) \n",
    "\n",
    "    \n",
    "def run():\n",
    "    new_directory = create_directory()\n",
    "    print(\"List of all directories in '% s':\" % DIRECTORY_FEATURES_C3D)\n",
    "    with os.scandir(DIRECTORY_FEATURES_C3D) as itr: \n",
    "        for entry in itr : \n",
    "             \n",
    "            if entry.is_dir() : \n",
    "                # Exclude the directory name starting with '.'   \n",
    "                if not entry.name.startswith('.') :     \n",
    "                    # Print Directory name   \n",
    "                    class_name = entry.name\n",
    "                    dire = DIRECTORY_FEATURES_C3D+class_name+'/'\n",
    "                    print(dire)                    \n",
    "                    files = os.listdir(dire)\n",
    "                                                            \n",
    "                    for video_name in files:\n",
    "                        #Se o arquivo for txt\n",
    "                        if video_name.endswith('.txt'):\n",
    "                            path = DIRECTORY_FEATURES_C3D+class_name+'/'+video_name\n",
    "                            print(path)\n",
    "                            save_features_layer(path, video_name, class_name)\n",
    "                            \n",
    "def create_directory():\n",
    "    sep = '.'\n",
    "    dirName = DIRECTORY_FEATURES_LAYER\n",
    "    #dirName = 'FeaturesExtractedLayerNetwork'\n",
    "    #dirName = DIRECTORY+dirName\n",
    "\n",
    "    if not os.path.exists(dirName):\n",
    "        os.mkdir(dirName)\n",
    "        print(\"Directory \" , dirName ,  \" Created \")\n",
    "    else:    \n",
    "        print(\"Directory \" , dirName ,  \" already exists\")\n",
    "\n",
    "    return dirName\n",
    "\n",
    "run()"
   ]
  },
  {
   "cell_type": "markdown",
   "metadata": {
    "collapsed": true
   },
   "source": [
    "# FIM"
   ]
  },
  {
   "cell_type": "code",
   "execution_count": null,
   "metadata": {
    "collapsed": true
   },
   "outputs": [],
   "source": []
  },
  {
   "cell_type": "code",
   "execution_count": null,
   "metadata": {
    "collapsed": true
   },
   "outputs": [],
   "source": []
  },
  {
   "cell_type": "code",
   "execution_count": null,
   "metadata": {
    "collapsed": true
   },
   "outputs": [],
   "source": []
  },
  {
   "cell_type": "markdown",
   "metadata": {},
   "source": [
    "# Rascunhos"
   ]
  },
  {
   "cell_type": "markdown",
   "metadata": {},
   "source": [
    "### Teste de escrita em arquivo"
   ]
  },
  {
   "cell_type": "code",
   "execution_count": 26,
   "metadata": {},
   "outputs": [
    {
     "ename": "TypeError",
     "evalue": "bad operand type for unary +: 'str'",
     "output_type": "error",
     "traceback": [
      "\u001b[0;31m---------------------------------------------------------------------------\u001b[0m",
      "\u001b[0;31mTypeError\u001b[0m                                 Traceback (most recent call last)",
      "\u001b[0;32m<ipython-input-26-a5263ce042bd>\u001b[0m in \u001b[0;36m<module>\u001b[0;34m()\u001b[0m\n\u001b[0;32m----> 1\u001b[0;31m \u001b[0mf\u001b[0m \u001b[0;34m=\u001b[0m \u001b[0mopen\u001b[0m\u001b[0;34m(\u001b[0m\u001b[0;34m+\u001b[0m\u001b[0;34m\"DIRECTORY_FEATURES_LAYER/modelando.csv\"\u001b[0m\u001b[0;34m,\u001b[0m \u001b[0;34m\"w+\"\u001b[0m\u001b[0;34m)\u001b[0m\u001b[0;34m\u001b[0m\u001b[0m\n\u001b[0m\u001b[1;32m      2\u001b[0m \u001b[0;34m\u001b[0m\u001b[0m\n\u001b[1;32m      3\u001b[0m \u001b[0;32mdef\u001b[0m \u001b[0mprintvalues\u001b[0m\u001b[0;34m(\u001b[0m\u001b[0mdata\u001b[0m\u001b[0;34m)\u001b[0m\u001b[0;34m:\u001b[0m\u001b[0;34m\u001b[0m\u001b[0m\n\u001b[1;32m      4\u001b[0m   \u001b[0;32mif\u001b[0m \u001b[0misinstance\u001b[0m\u001b[0;34m(\u001b[0m\u001b[0mdata\u001b[0m\u001b[0;34m,\u001b[0m \u001b[0mnp\u001b[0m\u001b[0;34m.\u001b[0m\u001b[0mndarray\u001b[0m\u001b[0;34m)\u001b[0m\u001b[0;34m:\u001b[0m\u001b[0;34m\u001b[0m\u001b[0m\n\u001b[1;32m      5\u001b[0m     \u001b[0mf\u001b[0m\u001b[0;34m.\u001b[0m\u001b[0mwrite\u001b[0m\u001b[0;34m(\u001b[0m\u001b[0;34m\"x;y;value\\r\\n\"\u001b[0m\u001b[0;34m)\u001b[0m\u001b[0;34m\u001b[0m\u001b[0m\n",
      "\u001b[0;31mTypeError\u001b[0m: bad operand type for unary +: 'str'"
     ]
    }
   ],
   "source": [
    "f = open(+\"DIRECTORY_FEATURES_LAYER/modelando.csv\", \"w+\")\n",
    "\n",
    "def printvalues(data):\n",
    "  if isinstance(data, np.ndarray):\n",
    "    f.write(\"x;y;value\\r\\n\")\n",
    "    for (x,y), value in np.ndenumerate(data):\n",
    "      if isinstance(value, np.ndarray):\n",
    "        f.write(\"NDArray;NDArray;NDArray\\r\\n\")\n",
    "        printvalues(value)\n",
    "      else:\n",
    "        f.write(\"{0};{1};{2}\\r\\n\".format(str(x), str(y), str(value)))\n",
    "  else:\n",
    "    return 0\n",
    "\n",
    "printvalues(out_val) "
   ]
  },
  {
   "cell_type": "code",
   "execution_count": null,
   "metadata": {},
   "outputs": [],
   "source": [
    "savemat('outlayer2', temp)"
   ]
  },
  {
   "cell_type": "code",
   "execution_count": null,
   "metadata": {
    "collapsed": true
   },
   "outputs": [],
   "source": [
    "f = open(\"out_val_layer2.csv\", \"w+\")\n",
    "\n",
    "def printvalues(data):\n",
    "  if isinstance(data, np.ndarray):\n",
    "    f.write(\"x;y;value\\r\\n\")\n",
    "    for (x,y), value in np.ndenumerate(data):\n",
    "      if isinstance(value, np.ndarray):\n",
    "        f.write(\"NDArray;NDArray;NDArray\\r\\n\")\n",
    "        printvalues(value)\n",
    "      else:\n",
    "        f.write(\"{0};{1};{2}\\r\\n\".format(str(x), str(y), str(value)))\n",
    "  else:\n",
    "    return 0\n",
    "\n",
    "printvalues(out_val)     "
   ]
  },
  {
   "cell_type": "code",
   "execution_count": null,
   "metadata": {
    "collapsed": true
   },
   "outputs": [],
   "source": [
    "#pip install keract\n",
    "from keract import get_activations\n",
    "activations = get_activations(model2, inputs,[model2.layers[2].get_output_at(0)])"
   ]
  },
  {
   "cell_type": "code",
   "execution_count": null,
   "metadata": {
    "collapsed": true
   },
   "outputs": [],
   "source": []
  }
 ],
 "metadata": {
  "accelerator": "GPU",
  "colab": {
   "collapsed_sections": [],
   "name": "Modelo_CVRP.ipynb",
   "provenance": []
  },
  "kernelspec": {
   "display_name": "Python 3",
   "language": "python",
   "name": "python3"
  },
  "language_info": {
   "codemirror_mode": {
    "name": "ipython",
    "version": 3
   },
   "file_extension": ".py",
   "mimetype": "text/x-python",
   "name": "python",
   "nbconvert_exporter": "python",
   "pygments_lexer": "ipython3",
   "version": "3.6.3"
  }
 },
 "nbformat": 4,
 "nbformat_minor": 1
}
